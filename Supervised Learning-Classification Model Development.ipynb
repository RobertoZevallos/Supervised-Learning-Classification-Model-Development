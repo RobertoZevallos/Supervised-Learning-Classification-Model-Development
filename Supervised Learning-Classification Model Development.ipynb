{
 "cells": [
  {
   "cell_type": "markdown",
   "id": "4afccafe",
   "metadata": {
    "deletable": false,
    "editable": false
   },
   "source": [
    "<h1>Supervised Learning-Classification Model Development</h1>\n",
    "\n",
    "<em><strong>Roberto Zevallos</strong></em>\n",
    "\n",
    "<hr style=\"height:.9px;border:none;color:#333;background-color:#333;\" />\n",
    "\n",
    "To start, I imported all the required functions for the different regression classifiers, scores and confusion matrix. Additionally, I read the Game of Thrones character predictions Excel file.\n",
    "<br>"
   ]
  },
  {
   "cell_type": "code",
   "execution_count": 1,
   "id": "bc8d68b1",
   "metadata": {
    "collapsed": true
   },
   "outputs": [
    {
     "data": {
      "text/html": [
       "<div>\n",
       "<style scoped>\n",
       "    .dataframe tbody tr th:only-of-type {\n",
       "        vertical-align: middle;\n",
       "    }\n",
       "\n",
       "    .dataframe tbody tr th {\n",
       "        vertical-align: top;\n",
       "    }\n",
       "\n",
       "    .dataframe thead th {\n",
       "        text-align: right;\n",
       "    }\n",
       "</style>\n",
       "<table border=\"1\" class=\"dataframe\">\n",
       "  <thead>\n",
       "    <tr style=\"text-align: right;\">\n",
       "      <th></th>\n",
       "      <th>S.No</th>\n",
       "      <th>name</th>\n",
       "      <th>title</th>\n",
       "      <th>culture</th>\n",
       "      <th>dateOfBirth</th>\n",
       "      <th>mother</th>\n",
       "      <th>father</th>\n",
       "      <th>heir</th>\n",
       "      <th>house</th>\n",
       "      <th>spouse</th>\n",
       "      <th>book1_A_Game_Of_Thrones</th>\n",
       "      <th>book2_A_Clash_Of_Kings</th>\n",
       "      <th>book3_A_Storm_Of_Swords</th>\n",
       "      <th>book4_A_Feast_For_Crows</th>\n",
       "      <th>book5_A_Dance_with_Dragons</th>\n",
       "      <th>isAliveMother</th>\n",
       "      <th>isAliveFather</th>\n",
       "      <th>isAliveHeir</th>\n",
       "      <th>isAliveSpouse</th>\n",
       "      <th>isMarried</th>\n",
       "      <th>isNoble</th>\n",
       "      <th>age</th>\n",
       "      <th>numDeadRelations</th>\n",
       "      <th>popularity</th>\n",
       "      <th>isAlive</th>\n",
       "    </tr>\n",
       "  </thead>\n",
       "  <tbody>\n",
       "    <tr>\n",
       "      <th>0</th>\n",
       "      <td>1</td>\n",
       "      <td>Viserys II Targaryen</td>\n",
       "      <td>NaN</td>\n",
       "      <td>NaN</td>\n",
       "      <td>NaN</td>\n",
       "      <td>Rhaenyra Targaryen</td>\n",
       "      <td>Daemon Targaryen</td>\n",
       "      <td>Aegon IV Targaryen</td>\n",
       "      <td>NaN</td>\n",
       "      <td>NaN</td>\n",
       "      <td>0</td>\n",
       "      <td>0</td>\n",
       "      <td>0</td>\n",
       "      <td>0</td>\n",
       "      <td>0</td>\n",
       "      <td>1.0</td>\n",
       "      <td>0.0</td>\n",
       "      <td>0.0</td>\n",
       "      <td>NaN</td>\n",
       "      <td>0</td>\n",
       "      <td>0</td>\n",
       "      <td>NaN</td>\n",
       "      <td>11</td>\n",
       "      <td>0.605351</td>\n",
       "      <td>0</td>\n",
       "    </tr>\n",
       "    <tr>\n",
       "      <th>1</th>\n",
       "      <td>2</td>\n",
       "      <td>Walder Frey</td>\n",
       "      <td>Lord of the Crossing</td>\n",
       "      <td>Rivermen</td>\n",
       "      <td>208.0</td>\n",
       "      <td>NaN</td>\n",
       "      <td>NaN</td>\n",
       "      <td>NaN</td>\n",
       "      <td>House Frey</td>\n",
       "      <td>Perra Royce</td>\n",
       "      <td>1</td>\n",
       "      <td>1</td>\n",
       "      <td>1</td>\n",
       "      <td>1</td>\n",
       "      <td>1</td>\n",
       "      <td>NaN</td>\n",
       "      <td>NaN</td>\n",
       "      <td>NaN</td>\n",
       "      <td>1.0</td>\n",
       "      <td>1</td>\n",
       "      <td>1</td>\n",
       "      <td>97.0</td>\n",
       "      <td>1</td>\n",
       "      <td>0.896321</td>\n",
       "      <td>1</td>\n",
       "    </tr>\n",
       "    <tr>\n",
       "      <th>2</th>\n",
       "      <td>3</td>\n",
       "      <td>Addison Hill</td>\n",
       "      <td>Ser</td>\n",
       "      <td>NaN</td>\n",
       "      <td>NaN</td>\n",
       "      <td>NaN</td>\n",
       "      <td>NaN</td>\n",
       "      <td>NaN</td>\n",
       "      <td>House Swyft</td>\n",
       "      <td>NaN</td>\n",
       "      <td>0</td>\n",
       "      <td>0</td>\n",
       "      <td>0</td>\n",
       "      <td>1</td>\n",
       "      <td>0</td>\n",
       "      <td>NaN</td>\n",
       "      <td>NaN</td>\n",
       "      <td>NaN</td>\n",
       "      <td>NaN</td>\n",
       "      <td>0</td>\n",
       "      <td>1</td>\n",
       "      <td>NaN</td>\n",
       "      <td>0</td>\n",
       "      <td>0.267559</td>\n",
       "      <td>1</td>\n",
       "    </tr>\n",
       "    <tr>\n",
       "      <th>3</th>\n",
       "      <td>4</td>\n",
       "      <td>Aemma Arryn</td>\n",
       "      <td>Queen</td>\n",
       "      <td>NaN</td>\n",
       "      <td>82.0</td>\n",
       "      <td>NaN</td>\n",
       "      <td>NaN</td>\n",
       "      <td>NaN</td>\n",
       "      <td>House Arryn</td>\n",
       "      <td>Viserys I Targaryen</td>\n",
       "      <td>0</td>\n",
       "      <td>0</td>\n",
       "      <td>0</td>\n",
       "      <td>0</td>\n",
       "      <td>0</td>\n",
       "      <td>NaN</td>\n",
       "      <td>NaN</td>\n",
       "      <td>NaN</td>\n",
       "      <td>0.0</td>\n",
       "      <td>1</td>\n",
       "      <td>1</td>\n",
       "      <td>23.0</td>\n",
       "      <td>0</td>\n",
       "      <td>0.183946</td>\n",
       "      <td>0</td>\n",
       "    </tr>\n",
       "    <tr>\n",
       "      <th>4</th>\n",
       "      <td>5</td>\n",
       "      <td>Sylva Santagar</td>\n",
       "      <td>Greenstone</td>\n",
       "      <td>Dornish</td>\n",
       "      <td>276.0</td>\n",
       "      <td>NaN</td>\n",
       "      <td>NaN</td>\n",
       "      <td>NaN</td>\n",
       "      <td>House Santagar</td>\n",
       "      <td>Eldon Estermont</td>\n",
       "      <td>0</td>\n",
       "      <td>0</td>\n",
       "      <td>0</td>\n",
       "      <td>1</td>\n",
       "      <td>0</td>\n",
       "      <td>NaN</td>\n",
       "      <td>NaN</td>\n",
       "      <td>NaN</td>\n",
       "      <td>1.0</td>\n",
       "      <td>1</td>\n",
       "      <td>1</td>\n",
       "      <td>29.0</td>\n",
       "      <td>0</td>\n",
       "      <td>0.043478</td>\n",
       "      <td>1</td>\n",
       "    </tr>\n",
       "  </tbody>\n",
       "</table>\n",
       "</div>"
      ],
      "text/plain": [
       "   S.No                  name                 title   culture  dateOfBirth              mother            father                heir           house               spouse  book1_A_Game_Of_Thrones  book2_A_Clash_Of_Kings  book3_A_Storm_Of_Swords  book4_A_Feast_For_Crows  book5_A_Dance_with_Dragons  isAliveMother  isAliveFather  isAliveHeir  isAliveSpouse  isMarried  isNoble   age  numDeadRelations  popularity  isAlive\n",
       "0     1  Viserys II Targaryen                   NaN       NaN          NaN  Rhaenyra Targaryen  Daemon Targaryen  Aegon IV Targaryen             NaN                  NaN                        0                       0                        0                        0                           0            1.0            0.0          0.0            NaN          0        0   NaN                11    0.605351        0\n",
       "1     2           Walder Frey  Lord of the Crossing  Rivermen        208.0                 NaN               NaN                 NaN      House Frey          Perra Royce                        1                       1                        1                        1                           1            NaN            NaN          NaN            1.0          1        1  97.0                 1    0.896321        1\n",
       "2     3          Addison Hill                   Ser       NaN          NaN                 NaN               NaN                 NaN     House Swyft                  NaN                        0                       0                        0                        1                           0            NaN            NaN          NaN            NaN          0        1   NaN                 0    0.267559        1\n",
       "3     4           Aemma Arryn                 Queen       NaN         82.0                 NaN               NaN                 NaN     House Arryn  Viserys I Targaryen                        0                       0                        0                        0                           0            NaN            NaN          NaN            0.0          1        1  23.0                 0    0.183946        0\n",
       "4     5        Sylva Santagar            Greenstone   Dornish        276.0                 NaN               NaN                 NaN  House Santagar      Eldon Estermont                        0                       0                        0                        1                           0            NaN            NaN          NaN            1.0          1        1  29.0                 0    0.043478        1"
      ]
     },
     "execution_count": 1,
     "metadata": {},
     "output_type": "execute_result"
    }
   ],
   "source": [
    "# importing libraries\n",
    "import numpy as np\n",
    "import pandas            as pd                       # data science essentials\n",
    "import matplotlib.pyplot as plt                      # data visualization\n",
    "import seaborn           as sns                      # enhanced data viz\n",
    "from sklearn.model_selection import train_test_split # train-test split\n",
    "from sklearn.linear_model import LogisticRegression  # logistic regression\n",
    "import statsmodels.formula.api as smf                # logistic regression\n",
    "from sklearn.metrics import confusion_matrix         # confusion matrix\n",
    "from sklearn.metrics import roc_auc_score            # auc score\n",
    "from sklearn.neighbors import KNeighborsClassifier   # KNN for classification\n",
    "from sklearn.neighbors import KNeighborsRegressor    # KNN for regression\n",
    "from sklearn.preprocessing import StandardScaler     # standard scaler\n",
    "from sklearn.tree import DecisionTreeClassifier      # classification trees\n",
    "from sklearn.tree import plot_tree                   # tree plots\n",
    "from sklearn.ensemble import RandomForestClassifier  # random forest\n",
    "from sklearn.ensemble import GradientBoostingClassifier # gbm\n",
    "from sklearn.model_selection import RandomizedSearchCV # hyperparameter tuning\n",
    "from sklearn.metrics import make_scorer                # customizable scorer\n",
    "\n",
    "# loading data\n",
    "GOT = pd.read_excel('./GOT_character_predictions.xlsx')\n",
    "\n",
    "# setting pandas print options\n",
    "pd.set_option('display.max_rows', 500)\n",
    "pd.set_option('display.max_columns', 500)\n",
    "pd.set_option('display.width', 1000)\n",
    "pd.set_option('display.max_colwidth', 100)\n",
    "\n",
    "# displaying the head of the dataset\n",
    "GOT.head(n = 5)"
   ]
  },
  {
   "cell_type": "markdown",
   "id": "bcd29aed",
   "metadata": {
    "deletable": false,
    "editable": false
   },
   "source": [
    "<br>\n",
    "<strong>User defined functions</strong>\n",
    "<br>\n",
    "The following section is used to define variables that will be used throughout the code for flagging the missing values, calculating the optimal number of neighbors for KNN model, developing a visual confusion matrix, and plotting the feature importance for CART models.\n",
    "<br>"
   ]
  },
  {
   "cell_type": "code",
   "execution_count": 2,
   "id": "8c807479",
   "metadata": {},
   "outputs": [],
   "source": [
    "#########################\n",
    "# mv_flagger\n",
    "#########################\n",
    "def mv_flagger(df):\n",
    "    \"\"\"\n",
    "Flags all columns that have missing values with 'm-COLUMN_NAME'.\n",
    "\n",
    "PARAMETERS\n",
    "----------\n",
    "df : DataFrame to flag missing values\n",
    "\n",
    "\n",
    "RETURNS\n",
    "-------\n",
    "DataFrame with missing value flags.\"\"\"\n",
    "\n",
    "\n",
    "    for col in df:\n",
    "\n",
    "        if df[col].isnull().astype(int).sum() > 0:\n",
    "            df['m_'+col] = df[col].isnull().astype(int)\n",
    "            \n",
    "    return df      \n",
    "        \n",
    "########################################\n",
    "# optimal_neighbors\n",
    "########################################\n",
    "def optimal_neighbors(x_data,\n",
    "                      y_data,\n",
    "                      standardize = True,\n",
    "                      pct_test=0.25,\n",
    "                      seed=219,\n",
    "                      response_type='reg',\n",
    "                      max_neighbors=20,\n",
    "                      show_viz=True):\n",
    "    \"\"\"\n",
    "Exhaustively compute training and testing results for KNN across\n",
    "[1, max_neighbors]. Outputs the maximum test score and (by default) a\n",
    "visualization of the results.\n",
    "PARAMETERS\n",
    "----------\n",
    "x_data        : explanatory variable data\n",
    "y_data        : response variable\n",
    "standardize   : whether or not to standardize the x data, default True\n",
    "pct_test      : test size for training and validation from (0,1), default 0.25\n",
    "seed          : random seed to be used in algorithm, default 219\n",
    "response_type : type of neighbors algorithm to use, default 'reg'\n",
    "    Use 'reg' for regression (KNeighborsRegressor)\n",
    "    Use 'class' for classification (KNeighborsClassifier)\n",
    "max_neighbors : maximum number of neighbors in exhaustive search, default 20\n",
    "show_viz      : display or surpress k-neigbors visualization, default True\n",
    "\"\"\"    \n",
    "    if standardize == True:\n",
    "        # optionally standardizing x_data\n",
    "        scaler             = StandardScaler()\n",
    "        scaler.fit(x_data)\n",
    "        x_scaled           = scaler.transform(x_data)\n",
    "        x_scaled_df        = pd.DataFrame(x_scaled)\n",
    "        x_data             = x_scaled_df\n",
    "\n",
    "    # train-test split\n",
    "    x_train, x_test, y_train, y_test = train_test_split(x_data,\n",
    "                                                        y_data,\n",
    "                                                        test_size = pct_test,\n",
    "                                                        random_state = seed)\n",
    "\n",
    "    # creating lists for training set accuracy and test set accuracy\n",
    "    training_accuracy = []\n",
    "    test_accuracy = []  \n",
    "    \n",
    "    # setting neighbor range\n",
    "    neighbors_settings = range(1, max_neighbors + 1)\n",
    "\n",
    "    for n_neighbors in neighbors_settings:\n",
    "        # building the model based on response variable type\n",
    "        if response_type == 'reg':\n",
    "            clf = KNeighborsRegressor(n_neighbors = n_neighbors)\n",
    "            clf.fit(x_train, y_train)\n",
    "            \n",
    "        elif response_type == 'class':\n",
    "            clf = KNeighborsClassifier(n_neighbors = n_neighbors)\n",
    "            clf.fit(x_train, y_train)            \n",
    "            \n",
    "        else:\n",
    "            print(\"Error: response_type must be 'reg' or 'class'\")   \n",
    "        \n",
    "        # recording the training set accuracy\n",
    "        training_accuracy.append(clf.score(x_train, y_train))\n",
    "    \n",
    "        # recording the generalization accuracy\n",
    "        test_accuracy.append(clf.score(x_test, y_test))\n",
    "\n",
    "    # optionally displaying visualization\n",
    "    if show_viz == True:\n",
    "        # plotting the visualization\n",
    "        fig, ax = plt.subplots(figsize=(12,8))\n",
    "        plt.plot(neighbors_settings, training_accuracy, label = \"training accuracy\")\n",
    "        plt.plot(neighbors_settings, test_accuracy, label = \"test accuracy\")\n",
    "        plt.ylabel(\"Accuracy\")\n",
    "        plt.xlabel(\"n_neighbors\")\n",
    "        plt.legend()\n",
    "        plt.show()\n",
    "    \n",
    "    \n",
    "    # returning optimal number of neighbors\n",
    "    print(f\"The optimal number of neighbors is: {test_accuracy.index(max(test_accuracy))+1}\")\n",
    "    return test_accuracy.index(max(test_accuracy))+1\n",
    "\n",
    "########################################\n",
    "# visual_cm\n",
    "########################################\n",
    "def visual_cm(true_y, pred_y, labels = None):\n",
    "    \"\"\"\n",
    "Creates a visualization of a confusion matrix.\n",
    "\n",
    "PARAMETERS\n",
    "----------\n",
    "true_y : true values for the response variable\n",
    "pred_y : predicted values for the response variable\n",
    "labels : , default None\n",
    "    \"\"\"\n",
    "    # visualizing the confusion matrix\n",
    "\n",
    "    # setting labels\n",
    "    lbls = labels\n",
    "    \n",
    "\n",
    "    # declaring a confusion matrix object\n",
    "    cm = confusion_matrix(y_true = true_y,\n",
    "                          y_pred = pred_y)\n",
    "\n",
    "    # heatmap\n",
    "    sns.heatmap(cm,\n",
    "                annot       = True,\n",
    "                xticklabels = lbls,\n",
    "                yticklabels = lbls,\n",
    "                cmap        = 'Blues',\n",
    "                fmt         = 'g')\n",
    "\n",
    "\n",
    "    plt.xlabel('Predicted')\n",
    "    plt.ylabel('Actual')\n",
    "    plt.title('Confusion Matrix of the Classifier')\n",
    "    plt.show()\n",
    "\n",
    "#########################################\n",
    "# feature importance\n",
    "########################################\n",
    "def plot_feature_importances(model, train, export = False):\n",
    "    \"\"\"\n",
    "    Plots the importance of features from a CART model.\n",
    "    \n",
    "    PARAMETERS\n",
    "    ----------\n",
    "    model  : CART model\n",
    "    train  : explanatory variable training data\n",
    "    export : whether or not to export as a .png image, default False\n",
    "    \"\"\"\n",
    "    \n",
    "    # declaring the number\n",
    "    n_features = x_train.shape[1]\n",
    "    \n",
    "    # setting plot window\n",
    "    fig, ax = plt.subplots(figsize=(12,9))\n",
    "    \n",
    "    plt.barh(range(n_features), model.feature_importances_, align='center')\n",
    "    plt.yticks(np.arange(n_features), train.columns)\n",
    "    plt.xlabel(\"Feature importance\")\n",
    "    plt.ylabel(\"Feature\")\n",
    "    \n",
    "    if export == True:\n",
    "        plt.savefig('Tree_Leaf_Feature_Importance.png')"
   ]
  },
  {
   "cell_type": "markdown",
   "id": "bebf1d57",
   "metadata": {
    "deletable": false,
    "editable": false
   },
   "source": [
    "<br>\n",
    "Then the .info() function helped me check the information of my data, like validation of data types and observing the high amount of missing values. From this it was already easy to determine that the <em>S.No</em> feature should be dropped since it is only showing a character number by order of appearance. Dropping this column as soon as possible helps me to not consider it by mistake in any further analysis. \n",
    "<br><br>\n",
    "Next, I checked the size of my dataset, where I identified that it does have a good amount of observations (1946) and 24 features.\n",
    "<br><br>\n",
    "By using the .isnull() function I identified missing values in 13 features which is a big number to deal with in the following feature engineering section.\n",
    "<br>"
   ]
  },
  {
   "cell_type": "code",
   "execution_count": 3,
   "id": "57dfb296",
   "metadata": {
    "collapsed": true
   },
   "outputs": [
    {
     "name": "stdout",
     "output_type": "stream",
     "text": [
      "<class 'pandas.core.frame.DataFrame'>\n",
      "RangeIndex: 1946 entries, 0 to 1945\n",
      "Data columns (total 25 columns):\n",
      " #   Column                      Non-Null Count  Dtype  \n",
      "---  ------                      --------------  -----  \n",
      " 0   S.No                        1946 non-null   int64  \n",
      " 1   name                        1946 non-null   object \n",
      " 2   title                       938 non-null    object \n",
      " 3   culture                     677 non-null    object \n",
      " 4   dateOfBirth                 433 non-null    float64\n",
      " 5   mother                      21 non-null     object \n",
      " 6   father                      26 non-null     object \n",
      " 7   heir                        23 non-null     object \n",
      " 8   house                       1519 non-null   object \n",
      " 9   spouse                      276 non-null    object \n",
      " 10  book1_A_Game_Of_Thrones     1946 non-null   int64  \n",
      " 11  book2_A_Clash_Of_Kings      1946 non-null   int64  \n",
      " 12  book3_A_Storm_Of_Swords     1946 non-null   int64  \n",
      " 13  book4_A_Feast_For_Crows     1946 non-null   int64  \n",
      " 14  book5_A_Dance_with_Dragons  1946 non-null   int64  \n",
      " 15  isAliveMother               21 non-null     float64\n",
      " 16  isAliveFather               26 non-null     float64\n",
      " 17  isAliveHeir                 23 non-null     float64\n",
      " 18  isAliveSpouse               276 non-null    float64\n",
      " 19  isMarried                   1946 non-null   int64  \n",
      " 20  isNoble                     1946 non-null   int64  \n",
      " 21  age                         433 non-null    float64\n",
      " 22  numDeadRelations            1946 non-null   int64  \n",
      " 23  popularity                  1946 non-null   float64\n",
      " 24  isAlive                     1946 non-null   int64  \n",
      "dtypes: float64(7), int64(10), object(8)\n",
      "memory usage: 380.2+ KB\n"
     ]
    }
   ],
   "source": [
    "GOT.info()"
   ]
  },
  {
   "cell_type": "code",
   "execution_count": 4,
   "id": "b11dc235",
   "metadata": {
    "scrolled": true
   },
   "outputs": [],
   "source": [
    "# dropping order variable\n",
    "GOT = GOT.drop(labels = 'S.No',\n",
    "                       axis   = 1)"
   ]
  },
  {
   "cell_type": "code",
   "execution_count": 5,
   "id": "3f954f8d",
   "metadata": {
    "collapsed": true
   },
   "outputs": [
    {
     "name": "stdout",
     "output_type": "stream",
     "text": [
      "\n",
      "Size of Original Dataset\n",
      "------------------------\n",
      "Observations: 1946 \n",
      "Features:     24\n",
      "\n"
     ]
    }
   ],
   "source": [
    "print(f\"\"\"\n",
    "Size of Original Dataset\n",
    "------------------------\n",
    "Observations: {GOT.shape[0]} \n",
    "Features:     {GOT.shape[1]}\n",
    "\"\"\")"
   ]
  },
  {
   "cell_type": "code",
   "execution_count": 6,
   "id": "bf690360",
   "metadata": {
    "collapsed": true
   },
   "outputs": [
    {
     "data": {
      "text/plain": [
       "name                             0\n",
       "title                         1008\n",
       "culture                       1269\n",
       "dateOfBirth                   1513\n",
       "mother                        1925\n",
       "father                        1920\n",
       "heir                          1923\n",
       "house                          427\n",
       "spouse                        1670\n",
       "book1_A_Game_Of_Thrones          0\n",
       "book2_A_Clash_Of_Kings           0\n",
       "book3_A_Storm_Of_Swords          0\n",
       "book4_A_Feast_For_Crows          0\n",
       "book5_A_Dance_with_Dragons       0\n",
       "isAliveMother                 1925\n",
       "isAliveFather                 1920\n",
       "isAliveHeir                   1923\n",
       "isAliveSpouse                 1670\n",
       "isMarried                        0\n",
       "isNoble                          0\n",
       "age                           1513\n",
       "numDeadRelations                 0\n",
       "popularity                       0\n",
       "isAlive                          0\n",
       "dtype: int64"
      ]
     },
     "execution_count": 6,
     "metadata": {},
     "output_type": "execute_result"
    }
   ],
   "source": [
    "# checking each feature for missing values\n",
    "GOT.isnull().sum(axis = 0)"
   ]
  },
  {
   "cell_type": "markdown",
   "id": "eaff1d92",
   "metadata": {
    "deletable": false,
    "editable": false
   },
   "source": [
    "<br>\n",
    "<strong>Flagging missing values</strong>\n",
    "<br>\n",
    "To point out the missing values I used the previously defined function that adds new columns at the end of the dataset with \"1\" were the missing values are found. These new columns are codified by adding a letter \"m\" from missing the beginning of their name.\n",
    "<br>\n",
    "The columns function was used to check the results of the function and identify that the missing values columns were created.\n",
    "<br>"
   ]
  },
  {
   "cell_type": "code",
   "execution_count": 7,
   "id": "036ee1fc",
   "metadata": {
    "collapsed": true
   },
   "outputs": [
    {
     "data": {
      "text/plain": [
       "Index(['name', 'title', 'culture', 'dateOfBirth', 'mother', 'father', 'heir', 'house', 'spouse', 'book1_A_Game_Of_Thrones', 'book2_A_Clash_Of_Kings', 'book3_A_Storm_Of_Swords', 'book4_A_Feast_For_Crows', 'book5_A_Dance_with_Dragons', 'isAliveMother', 'isAliveFather', 'isAliveHeir', 'isAliveSpouse', 'isMarried', 'isNoble', 'age', 'numDeadRelations', 'popularity', 'isAlive', 'm_title', 'm_culture', 'm_dateOfBirth', 'm_mother', 'm_father', 'm_heir', 'm_house', 'm_spouse', 'm_isAliveMother', 'm_isAliveFather', 'm_isAliveHeir', 'm_isAliveSpouse', 'm_age'], dtype='object')"
      ]
     },
     "execution_count": 7,
     "metadata": {},
     "output_type": "execute_result"
    }
   ],
   "source": [
    "# running the mv_flagger function\n",
    "GOT = mv_flagger(df = GOT)\n",
    "\n",
    "# checking results\n",
    "GOT.columns"
   ]
  },
  {
   "cell_type": "markdown",
   "id": "2fb174ff",
   "metadata": {
    "deletable": false,
    "editable": false
   },
   "source": [
    "<br><br>\n",
    "<strong>Treatment of missing values and Feature Engineering</strong>\n",
    "<br>\n",
    "To treat the missing values I created a cell with comments for each feature with possible imputations and categorical encoding that could be used to engineer new features from the original ones.\n",
    "<br>\n",
    "It can be seen that the variable type was also identified among with the above mentioned possibilities.\n",
    "<br>\n",
    "This comments are applied with more detail in the feature engineering section coming right after.\n",
    "<br><br>"
   ]
  },
  {
   "cell_type": "code",
   "execution_count": 8,
   "id": "327ea8a8",
   "metadata": {
    "code_folding": []
   },
   "outputs": [],
   "source": [
    "# analyzing features for missing value imputation and categorical encoding\n",
    "\n",
    "# name             - (discrete) feature to determine gender, feature to determine house or culture (taking family name)\n",
    "# title            - (discrete) / missing (missing can be used assuming that they don't have received a title and one-hot encode)\n",
    "# culture          - (categorical) impute based on split of name (family name), impute based on house OR\n",
    "#                                  impute with 'Unknown', then one-hot encode / missing\n",
    "# dateOfBirth      - (continuous) add this variable to age to get the timeframe were this person lived \n",
    "#                                 / missing, but first impute this variable with the median\n",
    "# mother           - (discrete) / missing (drop and used flagging)\n",
    "# father           - (discrete) / missing (drop and used flagging)\n",
    "# heir             - (discrete) / missing - impute with \"No heir\" if it is missing (if the character had a heir worth of\n",
    "#                                           including, it would have had a name)\n",
    "# house            - (discrete) impute based on split of name (family name), also impute based on culture OR\n",
    "#                               impute with 'Unknown', then one-hot encode / missing\n",
    "# spouse           - (discrete) impute with unknown OR if isMarried = 0 impute with not married OR\n",
    "#                               impute based if its name appears as other person's spouse / missing\n",
    "# book 1           - (categorical) use to determine appearances of characters\n",
    "# book 2           - (categorical) use to determine appearances of characters\n",
    "# book 3           - (categorical) use to determine appearances of characters\n",
    "# book 4           - (categorical) use to determine appearances of characters\n",
    "# book 5           - (categorical) use to determine appearances of characters\n",
    "# isAliveMother    - (categorical) / missing - could be completed based on a person having or not a mother\n",
    "# isAliveFather    - (categorical) / missing - could be completed based on a person having or not a father\n",
    "# isAliveHeir      - (categorical) / missing - can be 0 assuming the information wasn't recorded\n",
    "# isAliveSpouse    - (categorical) / missing - can be 0 assuming the information wasn't recorded, if someone is not married,\n",
    "#                                    then this person wouldn't have an alive spouse\n",
    "# isMarried        - (categorical) use to complete other variables as isAliveSpouse\n",
    "# isNoble          - (categorical) use to determine if someone is noble or not\n",
    "# age              - (continuous) add this variable to DOB to get the timeframe were this person lived\n",
    "#                                 / missing, but first impute this variable with the median\n",
    "# numDeadRelations - (continuous) drop (maybe is obtained after the fact) OR keep assuming it wasn't taken after the fact\n",
    "#                                 and use to calculate the number based on the type of culture of the character.\n",
    "# popularity       - (continuous) drop (maybe is obtained after the fact) OR keep assuming popularity on the story itself\n",
    "# isAlive          - (categorical) response variable\n",
    "\n",
    "\n",
    "# family name (strong)     culture                                                  house\n",
    "# Stark                    Northmen / Rivermen                                      Stark / Tully (1)\n",
    "# Targaryen                Valyrian                                                 Targaryen\n",
    "# Lannister                Westerman / Westerlands (Westerman_Westerlands)          Lannister / Lannister of Lannisport (1) / Lannister of Casterly Rock (1) / Baratheon (1) \n",
    "# Greyjoy                  Ironborn / Ironmen (Ironborn_Ironmen)                    Greyjoy\n",
    "# Tyrell                   Reach / The Reach (Reach)                                Tyrell / Tyrell of Brightwater Keep (1) / Citadel (1)\n",
    "# Baratheon                Stormlands                                               Baratheon / Baratheon of King's Landing (1) / Baratheon of Dragonstone (1)\n",
    "# Martell                  Dornish / Dornishmen (Dornish)                           Martell / Nymeros Martell (1)\n",
    "# Arryn                    Vale / Valemen (Valemen)                                 Arryn / Beesbury (1) / Tully (1)\n",
    "# Tully                    Rivermen                                                 Tully"
   ]
  },
  {
   "cell_type": "markdown",
   "id": "e0cfb723",
   "metadata": {
    "deletable": false,
    "editable": false
   },
   "source": [
    "<br><br>\n",
    "<strong>Feature Engineering</strong>\n",
    "<br>\n",
    "The first engineering that I used was focused on obtaining the first name of each character in order to use it in the gender guesser detector to determine the gender of the characters. It is important to mention that the first word of each name was assumed to be the first name of each character.\n",
    "<br><br>\n",
    "Additionally, the following code has been commented out and freezed in order to ensure that it is not run again. However, the output of this code was printed out and included as a list in order to be used as a new feature of the dataset.\n",
    "<br>"
   ]
  },
  {
   "cell_type": "code",
   "execution_count": null,
   "id": "7a8a5069",
   "metadata": {
    "deletable": false,
    "editable": false,
    "run_control": {
     "frozen": true
    }
   },
   "outputs": [],
   "source": [
    "################################################\n",
    "# getting first name for gender guesser\n",
    "#name_split = GOT['name'].str.split(n = 2, expand = True)\n",
    "#GOT['first_name'] = name_split[0]\n",
    "\n",
    "#import gender_guesser.detector as gender\n",
    "\n",
    "#placeholder_lst = []\n",
    "\n",
    "#for name in GOT['first_name']:\n",
    "#    guess = gender.Detector().get_gender(name)\n",
    "#    print(guess)\n",
    "#    placeholder_lst.append(guess)\n",
    "\n",
    "#GOT['gender_guess'] = pd.Series(placeholder_lst)\n",
    "\n",
    "#print(placeholder_lst)"
   ]
  },
  {
   "cell_type": "code",
   "execution_count": 9,
   "id": "c8368dfb",
   "metadata": {},
   "outputs": [],
   "source": [
    "# list of genders obtained by running the gender_guesser.detector\n",
    "gender_list = ['unknown', 'unknown', 'andy', 'unknown', 'female', 'unknown', 'unknown', 'unknown', 'male', 'male',\n",
    "               'mostly_male', 'mostly_male', 'mostly_male', 'mostly_male', 'mostly_male', 'mostly_male', 'unknown',\n",
    "               'male', 'unknown', 'unknown', 'male', 'male', 'female', 'unknown', 'unknown', 'female', 'unknown',\n",
    "               'unknown', 'unknown', 'unknown', 'unknown', 'unknown', 'unknown', 'unknown', 'unknown', 'unknown',\n",
    "               'unknown', 'unknown', 'unknown', 'unknown', 'unknown', 'mostly_female', 'unknown', 'unknown', 'unknown',\n",
    "               'unknown', 'unknown', 'female', 'unknown', 'unknown', 'male', 'unknown', 'unknown', 'unknown', 'unknown',\n",
    "               'unknown', 'unknown', 'unknown', 'unknown', 'unknown', 'unknown', 'unknown', 'unknown', 'unknown',\n",
    "               'male', 'unknown', 'unknown', 'unknown', 'unknown', 'unknown', 'unknown', 'female', 'unknown', 'unknown',\n",
    "               'unknown', 'male', 'male', 'andy', 'andy', 'unknown', 'andy', 'unknown', 'unknown', 'unknown', 'unknown',\n",
    "               'unknown', 'unknown', 'unknown', 'unknown', 'unknown', 'unknown', 'female', 'male', 'male', 'unknown',\n",
    "               'male', 'male', 'male', 'male', 'male', 'male', 'male', 'mostly_male', 'male', 'mostly_male',\n",
    "               'mostly_male', 'unknown', 'unknown', 'unknown', 'male', 'unknown', 'male', 'unknown', 'male', 'unknown',\n",
    "               'male', 'unknown', 'unknown', 'male', 'unknown', 'unknown', 'unknown', 'unknown', 'unknown', 'unknown',\n",
    "               'female', 'unknown', 'mostly_male', 'unknown', 'unknown', 'male', 'female', 'andy', 'unknown', 'unknown',\n",
    "               'unknown', 'unknown', 'unknown', 'unknown', 'unknown', 'unknown', 'unknown', 'mostly_male', 'unknown',\n",
    "               'unknown', 'unknown', 'unknown', 'unknown', 'unknown', 'female', 'unknown', 'female', 'unknown',\n",
    "               'unknown', 'unknown', 'unknown', 'unknown', 'male', 'mostly_female', 'unknown', 'unknown', 'unknown',\n",
    "               'unknown', 'unknown', 'unknown', 'unknown', 'unknown', 'unknown', 'unknown', 'male', 'unknown',\n",
    "               'unknown', 'unknown', 'unknown', 'male', 'unknown', 'unknown', 'unknown', 'male', 'unknown', 'unknown',\n",
    "               'andy', 'female', 'unknown', 'unknown', 'unknown', 'unknown', 'male', 'unknown', 'male', 'male',\n",
    "               'unknown', 'unknown', 'unknown', 'male', 'male', 'unknown', 'unknown', 'unknown', 'unknown', 'unknown',\n",
    "               'male', 'unknown', 'unknown', 'unknown', 'unknown', 'unknown', 'unknown', 'unknown', 'unknown', 'male',\n",
    "               'unknown', 'unknown', 'unknown', 'unknown', 'unknown', 'unknown', 'unknown', 'unknown', 'unknown',\n",
    "               'unknown', 'male', 'unknown', 'unknown', 'male', 'unknown', 'unknown', 'unknown', 'unknown', 'unknown',\n",
    "               'unknown', 'unknown', 'unknown', 'unknown', 'unknown', 'unknown', 'unknown', 'unknown', 'unknown',\n",
    "               'female', 'male', 'female', 'female', 'female', 'female', 'female', 'female', 'unknown', 'unknown',\n",
    "               'unknown', 'unknown', 'unknown', 'male', 'unknown', 'unknown', 'unknown', 'unknown', 'unknown',\n",
    "               'unknown', 'unknown', 'unknown', 'unknown', 'unknown', 'unknown', 'male', 'unknown', 'unknown',\n",
    "               'unknown', 'unknown', 'unknown', 'unknown', 'unknown', 'unknown', 'unknown', 'unknown', 'unknown',\n",
    "               'unknown', 'unknown', 'unknown', 'unknown', 'unknown', 'unknown', 'unknown', 'unknown', 'unknown',\n",
    "               'unknown', 'unknown', 'unknown', 'unknown', 'unknown', 'unknown', 'unknown', 'unknown', 'unknown',\n",
    "               'unknown', 'male', 'unknown', 'unknown', 'unknown', 'unknown', 'female', 'unknown', 'unknown', 'unknown',\n",
    "               'unknown', 'female', 'unknown', 'mostly_female', 'female', 'unknown', 'mostly_female', 'unknown',\n",
    "               'female', 'unknown', 'female', 'unknown', 'male', 'male', 'unknown', 'male', 'unknown', 'unknown',\n",
    "               'unknown', 'male', 'unknown', 'male', 'unknown', 'andy', 'unknown', 'unknown', 'unknown', 'unknown',\n",
    "               'unknown', 'unknown', 'unknown', 'unknown', 'female', 'unknown', 'unknown', 'unknown', 'female',\n",
    "               'unknown', 'unknown', 'unknown', 'unknown', 'unknown', 'female', 'male', 'male', 'male', 'male', 'male',\n",
    "               'unknown', 'unknown', 'male', 'unknown', 'unknown', 'unknown', 'unknown', 'male', 'unknown', 'unknown',\n",
    "               'female', 'female', 'female', 'unknown', 'unknown', 'unknown', 'male', 'unknown', 'unknown', 'unknown',\n",
    "               'unknown', 'male', 'male', 'male', 'male', 'male', 'male', 'unknown', 'unknown', 'unknown', 'unknown',\n",
    "               'unknown', 'unknown', 'unknown', 'male', 'unknown', 'male', 'unknown', 'unknown', 'unknown', 'unknown',\n",
    "               'unknown', 'male', 'unknown', 'unknown', 'unknown', 'unknown', 'unknown', 'unknown', 'mostly_female',\n",
    "               'unknown', 'unknown', 'unknown', 'unknown', 'male', 'unknown', 'unknown', 'unknown', 'unknown', 'unknown',\n",
    "               'unknown', 'male', 'male', 'male', 'male', 'unknown', 'male', 'unknown', 'unknown', 'male', 'unknown',\n",
    "               'unknown', 'unknown', 'mostly_male', 'unknown', 'unknown', 'unknown', 'unknown', 'unknown', 'unknown',\n",
    "               'unknown', 'unknown', 'unknown', 'unknown', 'unknown', 'unknown', 'unknown', 'unknown', 'mostly_male',\n",
    "               'female', 'male', 'male', 'male', 'female', 'unknown', 'unknown', 'female', 'unknown', 'unknown', 'male',\n",
    "               'male', 'male', 'female', 'unknown', 'male', 'unknown', 'unknown', 'unknown', 'unknown', 'female',\n",
    "               'unknown', 'unknown', 'unknown', 'female', 'unknown', 'andy', 'unknown', 'unknown', 'male', 'unknown',\n",
    "               'unknown', 'unknown', 'unknown', 'unknown', 'unknown', 'male', 'unknown', 'female', 'male', 'unknown',\n",
    "               'unknown', 'female', 'male', 'unknown', 'male', 'unknown', 'unknown', 'male', 'female', 'female',\n",
    "               'unknown', 'unknown', 'unknown', 'unknown', 'unknown', 'male', 'unknown', 'unknown', 'unknown', 'unknown',\n",
    "               'unknown', 'unknown', 'unknown', 'unknown', 'female', 'unknown', 'female', 'female', 'unknown', 'unknown',\n",
    "               'unknown', 'unknown', 'unknown', 'unknown', 'male', 'unknown', 'unknown', 'male', 'unknown', 'unknown',\n",
    "               'male', 'unknown', 'unknown', 'unknown', 'male', 'male', 'male', 'unknown', 'male', 'unknown', 'unknown',\n",
    "               'male', 'unknown', 'unknown', 'unknown', 'male', 'unknown', 'unknown', 'unknown', 'unknown', 'unknown',\n",
    "               'unknown', 'unknown', 'unknown', 'unknown', 'unknown', 'unknown', 'male', 'unknown', 'unknown', 'unknown',\n",
    "               'unknown', 'unknown', 'unknown', 'unknown', 'unknown', 'unknown', 'unknown', 'unknown', 'unknown',\n",
    "               'unknown', 'unknown', 'unknown', 'unknown', 'unknown', 'unknown', 'unknown', 'unknown', 'female',\n",
    "               'unknown', 'male', 'male', 'unknown', 'unknown', 'unknown', 'male', 'unknown', 'unknown', 'unknown',\n",
    "               'unknown', 'unknown', 'unknown', 'unknown', 'unknown', 'unknown', 'unknown', 'unknown', 'unknown',\n",
    "               'male', 'unknown', 'unknown', 'unknown', 'unknown', 'unknown', 'unknown', 'unknown', 'female', 'unknown',\n",
    "               'male', 'unknown', 'male', 'male', 'unknown', 'unknown', 'male', 'male', 'unknown', 'male', 'unknown',\n",
    "               'male', 'unknown', 'unknown', 'unknown', 'unknown', 'unknown', 'unknown', 'unknown', 'unknown', 'unknown',\n",
    "               'male', 'unknown', 'unknown', 'unknown', 'male', 'female', 'unknown', 'unknown', 'female', 'unknown',\n",
    "               'unknown', 'unknown', 'unknown', 'unknown', 'unknown', 'unknown', 'female', 'unknown', 'female', 'female',\n",
    "               'female', 'unknown', 'unknown', 'male', 'male', 'male', 'male', 'male', 'male', 'male', 'male', 'male',\n",
    "               'male', 'unknown', 'unknown', 'unknown', 'unknown', 'unknown', 'male', 'male', 'unknown', 'male',\n",
    "               'unknown', 'unknown', 'unknown', 'unknown', 'unknown', 'unknown', 'unknown', 'unknown', 'unknown',\n",
    "               'mostly_male', 'unknown', 'unknown', 'unknown', 'unknown', 'unknown', 'mostly_female', 'mostly_female',\n",
    "               'mostly_female', 'unknown', 'female', 'unknown', 'unknown', 'unknown', 'unknown', 'unknown', 'unknown',\n",
    "               'unknown', 'female', 'unknown', 'unknown', 'unknown', 'unknown', 'unknown', 'male', 'female', 'male',\n",
    "               'male', 'male', 'male', 'unknown', 'female', 'female', 'female', 'unknown', 'mostly_male', 'unknown',\n",
    "               'unknown', 'male', 'unknown', 'male', 'unknown', 'unknown', 'unknown', 'unknown', 'unknown', 'male',\n",
    "               'male', 'unknown', 'unknown', 'unknown', 'unknown', 'male', 'male', 'unknown', 'unknown', 'unknown',\n",
    "               'unknown', 'unknown', 'unknown', 'male', 'male', 'male', 'female', 'male', 'female', 'unknown', 'unknown',\n",
    "               'female', 'male', 'unknown', 'unknown', 'unknown', 'unknown', 'male', 'male', 'male', 'unknown', 'unknown',\n",
    "               'female', 'unknown', 'female', 'unknown', 'male', 'unknown', 'unknown', 'unknown', 'male', 'male', 'male',\n",
    "               'unknown', 'unknown', 'unknown', 'unknown', 'unknown', 'unknown', 'unknown', 'unknown', 'unknown',\n",
    "               'unknown', 'unknown', 'unknown', 'unknown', 'unknown', 'unknown', 'unknown', 'male', 'unknown', 'unknown',\n",
    "               'unknown', 'unknown', 'unknown', 'unknown', 'unknown', 'unknown', 'unknown', 'unknown', 'male', 'unknown',\n",
    "               'unknown', 'unknown', 'unknown', 'unknown', 'unknown', 'unknown', 'unknown', 'unknown', 'male', 'female',\n",
    "               'unknown', 'male', 'unknown', 'unknown', 'mostly_female', 'male', 'female', 'male', 'unknown', 'unknown',\n",
    "               'unknown', 'unknown', 'unknown', 'unknown', 'unknown', 'unknown', 'unknown', 'unknown', 'unknown', 'unknown',\n",
    "               'unknown', 'unknown', 'unknown', 'unknown', 'unknown', 'unknown', 'male', 'male', 'male', 'unknown',\n",
    "               'unknown', 'unknown', 'unknown', 'unknown', 'unknown', 'unknown', 'unknown', 'male', 'male', 'male',\n",
    "               'unknown', 'unknown', 'unknown', 'unknown', 'unknown', 'unknown', 'unknown', 'unknown', 'female',\n",
    "               'female', 'unknown', 'unknown', 'male', 'unknown', 'unknown', 'unknown', 'unknown', 'unknown', 'unknown',\n",
    "               'male', 'unknown', 'unknown', 'unknown', 'unknown', 'unknown', 'unknown', 'unknown', 'unknown', 'unknown',\n",
    "               'unknown', 'unknown', 'unknown', 'unknown', 'unknown', 'unknown', 'unknown', 'unknown', 'unknown',\n",
    "               'unknown', 'unknown', 'unknown', 'male', 'unknown', 'male', 'unknown', 'male', 'male', 'female',\n",
    "               'mostly_female', 'female', 'mostly_female', 'mostly_female', 'mostly_female', 'mostly_female',\n",
    "               'mostly_female', 'mostly_female', 'unknown', 'unknown', 'female', 'female', 'unknown', 'unknown',\n",
    "               'male', 'unknown', 'unknown', 'unknown', 'male', 'unknown', 'unknown', 'female', 'unknown', 'male',\n",
    "               'male', 'unknown', 'unknown', 'unknown', 'unknown', 'unknown', 'unknown', 'unknown', 'unknown', 'unknown',\n",
    "               'unknown', 'unknown', 'unknown', 'unknown', 'unknown', 'male', 'unknown', 'unknown', 'female', 'unknown',\n",
    "               'female', 'unknown', 'unknown', 'female', 'female', 'unknown', 'unknown', 'unknown', 'unknown', 'unknown',\n",
    "               'male', 'male', 'male', 'unknown', 'unknown', 'male', 'unknown', 'unknown', 'unknown', 'unknown',\n",
    "               'unknown', 'unknown', 'unknown', 'unknown', 'male', 'male', 'unknown', 'unknown', 'unknown', 'male',\n",
    "               'unknown', 'female', 'male', 'unknown', 'unknown', 'unknown', 'unknown', 'unknown', 'unknown', 'unknown',\n",
    "               'unknown', 'unknown', 'male', 'male', 'male', 'unknown', 'unknown', 'unknown', 'unknown', 'unknown',\n",
    "               'female', 'unknown', 'female', 'unknown', 'unknown', 'male', 'male', 'male', 'male', 'male', 'unknown',\n",
    "               'unknown', 'unknown', 'male', 'male', 'unknown', 'unknown', 'unknown', 'unknown', 'unknown', 'unknown',\n",
    "               'unknown', 'unknown', 'unknown', 'unknown', 'unknown', 'unknown', 'unknown', 'unknown', 'unknown',\n",
    "               'unknown', 'male', 'female', 'mostly_male', 'unknown', 'female', 'male', 'male', 'male', 'unknown',\n",
    "               'unknown', 'unknown', 'unknown', 'unknown', 'unknown', 'unknown', 'unknown', 'unknown', 'unknown',\n",
    "               'unknown', 'unknown', 'unknown', 'unknown', 'male', 'unknown', 'unknown', 'male', 'male', 'male',\n",
    "               'male', 'male', 'unknown', 'unknown', 'male', 'male', 'unknown', 'unknown', 'unknown', 'male',\n",
    "               'unknown', 'unknown', 'male', 'male', 'unknown', 'male', 'male', 'unknown', 'unknown', 'unknown',\n",
    "               'unknown', 'unknown', 'unknown', 'unknown', 'unknown', 'unknown', 'unknown', 'unknown', 'unknown',\n",
    "               'unknown', 'unknown', 'unknown', 'unknown', 'unknown', 'unknown', 'unknown', 'unknown', 'unknown',\n",
    "               'unknown', 'male', 'male', 'male', 'unknown', 'unknown', 'unknown', 'unknown', 'unknown', 'unknown',\n",
    "               'unknown', 'unknown', 'unknown', 'unknown', 'unknown', 'unknown', 'unknown', 'unknown', 'unknown',\n",
    "               'unknown', 'unknown', 'male', 'unknown', 'male', 'unknown', 'unknown', 'unknown', 'unknown', 'unknown',\n",
    "               'male', 'unknown', 'unknown', 'unknown', 'female', 'unknown', 'male', 'male', 'male', 'male', 'unknown',\n",
    "               'unknown', 'unknown', 'unknown', 'unknown', 'unknown', 'unknown', 'male', 'male', 'male', 'male', 'male',\n",
    "               'male', 'male', 'male', 'unknown', 'unknown', 'unknown', 'unknown', 'unknown', 'unknown', 'unknown',\n",
    "               'unknown', 'female', 'unknown', 'unknown', 'unknown', 'unknown', 'unknown', 'unknown', 'unknown',\n",
    "               'female', 'female', 'male', 'unknown', 'unknown', 'unknown', 'unknown', 'unknown', 'unknown', 'male',\n",
    "               'male', 'female', 'unknown', 'female', 'male', 'unknown', 'unknown', 'unknown', 'unknown', 'unknown',\n",
    "               'unknown', 'male', 'male', 'male', 'unknown', 'unknown', 'unknown', 'unknown', 'unknown', 'unknown',\n",
    "               'unknown', 'male', 'unknown', 'male', 'unknown', 'unknown', 'male', 'unknown', 'female', 'unknown',\n",
    "               'unknown', 'unknown', 'mostly_male', 'male', 'unknown', 'unknown', 'male', 'male', 'male', 'unknown',\n",
    "               'female', 'unknown', 'unknown', 'unknown', 'unknown', 'female', 'unknown', 'female', 'female', 'female',\n",
    "               'male', 'male', 'unknown', 'unknown', 'unknown', 'male', 'male', 'unknown', 'male', 'unknown', 'unknown',\n",
    "               'unknown', 'unknown', 'unknown', 'unknown', 'unknown', 'unknown', 'unknown', 'unknown', 'unknown',\n",
    "               'unknown', 'female', 'unknown', 'unknown', 'unknown', 'female', 'unknown', 'unknown', 'unknown',\n",
    "               'unknown', 'unknown', 'male', 'unknown', 'unknown', 'unknown', 'female', 'unknown', 'unknown', 'unknown',\n",
    "               'unknown', 'male', 'male', 'unknown', 'male', 'unknown', 'female', 'unknown', 'unknown', 'male',\n",
    "               'unknown', 'unknown', 'unknown', 'unknown', 'unknown', 'male', 'unknown', 'unknown', 'unknown',\n",
    "               'unknown', 'male', 'male', 'male', 'unknown', 'unknown', 'male', 'unknown', 'unknown', 'male',\n",
    "               'unknown', 'male', 'unknown', 'unknown', 'unknown', 'unknown', 'unknown', 'unknown', 'male', 'male',\n",
    "               'unknown', 'unknown', 'unknown', 'unknown', 'unknown', 'unknown', 'unknown', 'unknown', 'unknown',\n",
    "               'male', 'unknown', 'male', 'unknown', 'male', 'male', 'andy', 'male', 'male', 'unknown', 'unknown',\n",
    "               'unknown', 'female', 'unknown', 'female', 'unknown', 'male', 'male', 'male', 'male', 'male', 'male',\n",
    "               'mostly_male', 'mostly_male', 'mostly_male', 'mostly_male', 'unknown', 'unknown', 'unknown', 'male',\n",
    "               'unknown', 'male', 'male', 'unknown', 'male', 'male', 'unknown', 'male', 'male', 'unknown', 'unknown',\n",
    "               'male', 'unknown', 'unknown', 'unknown', 'unknown', 'unknown', 'unknown', 'unknown', 'unknown',\n",
    "               'unknown', 'unknown', 'unknown', 'unknown', 'unknown', 'unknown', 'unknown', 'unknown', 'male',\n",
    "               'unknown', 'unknown', 'unknown', 'female', 'female', 'unknown', 'unknown', 'unknown', 'male',\n",
    "               'unknown', 'unknown', 'unknown', 'unknown', 'unknown', 'unknown', 'unknown', 'unknown', 'unknown',\n",
    "               'unknown', 'unknown', 'male', 'unknown', 'unknown', 'male', 'unknown', 'unknown', 'unknown', 'unknown',\n",
    "               'unknown', 'male', 'unknown', 'male', 'male', 'unknown', 'unknown', 'male', 'unknown', 'male', 'unknown',\n",
    "               'unknown', 'unknown', 'unknown', 'unknown', 'unknown', 'unknown', 'unknown', 'unknown', 'male', 'male',\n",
    "               'male', 'male', 'unknown', 'unknown', 'unknown', 'unknown', 'unknown', 'unknown', 'unknown', 'unknown',\n",
    "               'unknown', 'unknown', 'unknown', 'unknown', 'unknown', 'unknown', 'unknown', 'unknown', 'unknown',\n",
    "               'unknown', 'unknown', 'unknown', 'unknown', 'unknown', 'female', 'unknown', 'unknown', 'unknown',\n",
    "               'unknown', 'male', 'unknown', 'unknown', 'male', 'male', 'unknown', 'unknown', 'male', 'unknown',\n",
    "               'unknown', 'unknown', 'male', 'unknown', 'male', 'male', 'unknown', 'male', 'unknown', 'unknown',\n",
    "               'unknown', 'male', 'unknown', 'male', 'unknown', 'unknown', 'unknown', 'unknown', 'unknown', 'unknown',\n",
    "               'unknown', 'male', 'male', 'unknown', 'unknown', 'female', 'male', 'unknown', 'unknown', 'unknown',\n",
    "               'unknown', 'unknown', 'unknown', 'mostly_male', 'unknown', 'unknown', 'unknown', 'male', 'unknown',\n",
    "               'unknown', 'male', 'unknown', 'unknown', 'unknown', 'unknown', 'unknown', 'male', 'unknown', 'unknown',\n",
    "               'unknown', 'unknown', 'female', 'female', 'unknown', 'unknown', 'unknown', 'unknown', 'unknown', 'male',\n",
    "               'unknown', 'male', 'unknown', 'unknown', 'male', 'unknown', 'unknown', 'mostly_female', 'unknown',\n",
    "               'male', 'unknown', 'unknown', 'unknown', 'unknown', 'unknown', 'unknown', 'unknown', 'male', 'unknown',\n",
    "               'unknown', 'unknown', 'male', 'male', 'unknown', 'unknown', 'unknown', 'male', 'male', 'unknown',\n",
    "               'unknown', 'unknown', 'unknown', 'unknown', 'mostly_female', 'unknown', 'unknown', 'male', 'unknown',\n",
    "               'unknown', 'male', 'male', 'mostly_female', 'unknown', 'unknown', 'unknown', 'unknown', 'unknown',\n",
    "               'male', 'unknown', 'female', 'unknown', 'female', 'unknown', 'female', 'unknown', 'female', 'unknown',\n",
    "               'unknown', 'unknown', 'unknown', 'unknown', 'unknown', 'andy', 'unknown', 'unknown', 'unknown',\n",
    "               'unknown', 'unknown', 'male', 'unknown', 'female', 'unknown', 'male', 'unknown', 'unknown', 'unknown',\n",
    "               'unknown', 'unknown', 'unknown', 'unknown', 'unknown', 'unknown', 'unknown', 'unknown', 'unknown',\n",
    "               'male', 'unknown', 'unknown', 'male', 'unknown', 'unknown', 'unknown', 'unknown', 'female', 'unknown',\n",
    "               'male', 'unknown', 'unknown', 'unknown', 'unknown', 'unknown', 'unknown', 'unknown', 'male', 'male',\n",
    "               'unknown', 'unknown', 'unknown', 'unknown', 'unknown', 'unknown', 'unknown', 'unknown', 'unknown',\n",
    "               'unknown', 'unknown', 'unknown', 'unknown', 'unknown', 'unknown', 'female', 'unknown', 'unknown',\n",
    "               'unknown', 'mostly_female', 'unknown', 'unknown', 'unknown', 'unknown', 'unknown', 'male', 'male',\n",
    "               'male', 'male', 'unknown', 'unknown', 'male', 'unknown', 'unknown', 'male', 'female', 'unknown',\n",
    "               'unknown', 'unknown', 'unknown', 'unknown', 'unknown', 'unknown', 'female', 'unknown', 'unknown',\n",
    "               'unknown', 'unknown', 'unknown', 'unknown', 'female', 'unknown', 'unknown', 'unknown', 'male', 'male',\n",
    "               'unknown', 'unknown', 'unknown', 'unknown', 'unknown', 'unknown', 'unknown', 'unknown', 'male',\n",
    "               'unknown', 'unknown', 'unknown', 'unknown', 'unknown', 'unknown', 'male', 'unknown', 'male', 'male',\n",
    "               'unknown', 'unknown', 'unknown', 'unknown', 'unknown', 'unknown', 'unknown', 'female', 'unknown',\n",
    "               'female', 'unknown', 'unknown', 'unknown', 'unknown', 'unknown', 'unknown', 'unknown', 'unknown',\n",
    "               'unknown', 'male', 'unknown', 'female', 'unknown', 'unknown', 'unknown', 'male', 'unknown', 'unknown',\n",
    "               'unknown', 'unknown', 'unknown', 'unknown', 'unknown', 'male', 'unknown', 'unknown', 'unknown',\n",
    "               'unknown', 'unknown', 'unknown', 'female', 'male', 'unknown', 'unknown', 'unknown', 'unknown',\n",
    "               'unknown', 'unknown', 'female', 'male', 'unknown', 'unknown', 'unknown', 'unknown', 'unknown',\n",
    "               'unknown', 'unknown', 'unknown', 'unknown', 'male', 'male', 'unknown', 'male', 'male', 'unknown',\n",
    "               'male', 'unknown', 'male', 'male', 'male', 'unknown', 'unknown', 'male', 'unknown', 'unknown',\n",
    "               'unknown', 'male', 'unknown', 'female', 'unknown', 'unknown', 'unknown', 'male', 'male', 'male',\n",
    "               'male', 'male', 'unknown', 'male', 'unknown', 'unknown', 'unknown', 'unknown', 'female', 'unknown',\n",
    "               'unknown', 'unknown', 'male', 'unknown', 'unknown', 'female', 'unknown', 'unknown', 'unknown',\n",
    "               'female', 'unknown', 'unknown', 'unknown', 'mostly_male', 'male', 'unknown', 'unknown', 'unknown',\n",
    "               'male', 'unknown', 'unknown', 'unknown', 'unknown', 'male', 'unknown', 'unknown', 'unknown',\n",
    "               'unknown', 'unknown', 'male', 'unknown', 'unknown', 'male', 'male', 'unknown', 'unknown', 'male',\n",
    "               'unknown', 'unknown', 'unknown', 'unknown', 'unknown', 'unknown', 'unknown', 'unknown', 'unknown',\n",
    "               'unknown', 'male', 'unknown', 'male', 'unknown', 'unknown', 'unknown', 'unknown', 'unknown', 'unknown',\n",
    "               'unknown', 'unknown', 'unknown', 'unknown', 'unknown', 'unknown', 'unknown', 'unknown', 'unknown',\n",
    "               'unknown', 'male', 'unknown', 'unknown', 'unknown', 'unknown', 'unknown', 'unknown', 'male',\n",
    "               'unknown', 'unknown', 'unknown', 'male', 'unknown', 'unknown', 'male', 'unknown', 'unknown', 'unknown',\n",
    "               'male', 'unknown', 'unknown', 'unknown', 'unknown', 'unknown', 'unknown', 'unknown', 'unknown',\n",
    "               'unknown', 'unknown', 'unknown', 'unknown', 'unknown', 'unknown', 'unknown', 'male', 'unknown',\n",
    "               'unknown', 'unknown', 'unknown', 'unknown', 'unknown', 'unknown', 'unknown', 'unknown', 'unknown',\n",
    "               'male', 'unknown', 'unknown', 'male', 'unknown', 'unknown', 'mostly_female', 'unknown', 'unknown',\n",
    "               'unknown', 'female', 'male', 'unknown', 'unknown', 'male', 'unknown', 'unknown', 'unknown', 'unknown',\n",
    "               'unknown', 'unknown', 'unknown', 'unknown', 'unknown', 'unknown', 'unknown', 'unknown', 'male',\n",
    "               'unknown', 'unknown', 'unknown', 'unknown', 'unknown', 'male', 'female', 'male', 'mostly_male',\n",
    "               'unknown', 'unknown', 'unknown', 'unknown', 'unknown', 'unknown', 'unknown', 'unknown', 'male',\n",
    "               'unknown', 'unknown', 'unknown', 'male', 'unknown', 'female', 'unknown', 'unknown', 'unknown', 'male',\n",
    "               'unknown', 'unknown']"
   ]
  },
  {
   "cell_type": "markdown",
   "id": "e2e5837f",
   "metadata": {
    "deletable": false,
    "editable": false
   },
   "source": [
    "<br><br>\n",
    "<strong>Feature Engineering continued</strong>\n",
    "<br>\n",
    "After hard coding the output of the gender detector, I began to produce engineered features of the dataset based on the previous mentioned engineering possibilities. The following code shows and explains the process used.\n",
    "<br>\n",
    "Also, when developing the models, these lines of code were also run to continue visualizing and validating the developed variables, and engineering new variables or categories.\n",
    "<br>"
   ]
  },
  {
   "cell_type": "code",
   "execution_count": 10,
   "id": "4a56d89a",
   "metadata": {},
   "outputs": [],
   "source": [
    "################################################\n",
    "# impute title\n",
    "GOT['title'].fillna(value = 'No_title', inplace = True)\n",
    "GOT['title_received'] = np.where(GOT['title'] == 'No_title', 'No_received_title', 'Yes_received_title')\n",
    "one_hot_title = pd.get_dummies(GOT['title_received'])\n",
    "GOT = GOT.join([one_hot_title])\n",
    "\n",
    "################################################\n",
    "# impute culture based on family name\n",
    "# looping to find family names\n",
    "for index, val in GOT.iterrows():\n",
    "    \n",
    "    # checking for Stark\n",
    "    if ' Stark' in GOT.loc[ index , 'name']:\n",
    "        GOT.loc[index, 'culture_imput'] = 'Northmen'\n",
    "        \n",
    "    # checking for Targaryen\n",
    "    elif ' Targaryen' in GOT.loc[ index , 'name']:\n",
    "        GOT.loc[index, 'culture_imput'] = 'Valyrian'\n",
    "        \n",
    "    # checking for Lannister\n",
    "    elif ' Lannister' in GOT.loc[ index , 'name']:\n",
    "        GOT.loc[index, 'culture_imput'] = 'Westerman_Westerlands'\n",
    "        \n",
    "    # checking for Greyjoy\n",
    "    elif ' Greyjoy' in GOT.loc[ index , 'name']:\n",
    "        GOT.loc[index, 'culture_imput'] = 'Ironborn_Ironmen'\n",
    "        \n",
    "    # checking for Tyrell\n",
    "    elif ' Tyrell' in GOT.loc[ index , 'name']:\n",
    "        GOT.loc[index, 'culture_imput'] = 'Reach'\n",
    "        \n",
    "    # checking for Baratheon\n",
    "    elif ' Baratheon' in GOT.loc[ index , 'name']:\n",
    "        GOT.loc[index, 'culture_imput'] = 'Stormlands'\n",
    "        \n",
    "    # checking for Martell\n",
    "    elif ' Martell' in GOT.loc[ index , 'name']:\n",
    "        GOT.loc[index, 'culture_imput'] = 'Dornish'\n",
    "        \n",
    "    # checking for Arryn\n",
    "    elif ' Arryn' in GOT.loc[ index , 'name']:\n",
    "        GOT.loc[index, 'culture_imput'] = 'Valemen'\n",
    "        \n",
    "    # checking for Tully\n",
    "    elif ' Tully' in GOT.loc[ index , 'name']:\n",
    "        GOT.loc[index, 'culture_imput'] = 'Rivermen'\n",
    "        \n",
    "    # controlling unknown\n",
    "    else:\n",
    "        GOT.loc[index, 'culture_imput'] = 'Unknown'\n",
    "        \n",
    "# use the culture_imput values to fill missing values of culture (in a new column)\n",
    "GOT['culture_2'] = GOT['culture']\n",
    "GOT['culture_2'].fillna(value = GOT['culture_imput'], inplace = True)\n",
    "\n",
    "strong_cultures = ['Northmen', 'Valyrian', 'Westerman_Westerlands', 'Ironborn_Ironmen', 'Reach', 'Stormlands', 'Dornish', 'Valemen', 'Rivermen']\n",
    "GOT['strong_culture'] = np.where(GOT['culture_2'].isin(strong_cultures), \"culture_Strong\", np.where(GOT['culture_2'] == 'Unknown', 'culture_Unknown', 'culture_Other'))\n",
    "one_hot_culture = pd.get_dummies(GOT['strong_culture'])\n",
    "GOT = GOT.join([one_hot_culture])\n",
    "\n",
    "################################################\n",
    "# impute heir\n",
    "GOT['heir'].fillna(value = 'No_heir', inplace = True)\n",
    "GOT['has_heir'] = np.where(GOT['heir'] == 'No_heir', 'No_heir', 'Yes_heir')\n",
    "one_hot_heir = pd.get_dummies(GOT['has_heir'])\n",
    "GOT = GOT.join([one_hot_heir])\n",
    "\n",
    "################################################\n",
    "# impute house based on family name\n",
    "# looping to find family names\n",
    "for index, val in GOT.iterrows():\n",
    "    \n",
    "    # checking for Stark\n",
    "    if ' Stark' in GOT.loc[ index , 'name']:\n",
    "        GOT.loc[index, 'house_imput'] = 'House Stark'\n",
    "        \n",
    "    # checking for Targaryen\n",
    "    elif ' Targaryen' in GOT.loc[ index , 'name']:\n",
    "        GOT.loc[index, 'house_imput'] = 'House Targaryen'\n",
    "        \n",
    "    # checking for Lannister\n",
    "    elif ' Lannister' in GOT.loc[ index , 'name']:\n",
    "        GOT.loc[index, 'house_imput'] = 'House Lannister'\n",
    "        \n",
    "    # checking for Greyjoy\n",
    "    elif ' Greyjoy' in GOT.loc[ index , 'name']:\n",
    "        GOT.loc[index, 'house_imput'] = 'House Greyjoy'\n",
    "        \n",
    "    # checking for Tyrell\n",
    "    elif ' Tyrell' in GOT.loc[ index , 'name']:\n",
    "        GOT.loc[index, 'house_imput'] = 'House Tyrell'\n",
    "        \n",
    "    # checking for Baratheon\n",
    "    elif ' Baratheon' in GOT.loc[ index , 'name']:\n",
    "        GOT.loc[index, 'house_imput'] = 'House Baratheon'\n",
    "        \n",
    "    # checking for Martell\n",
    "    elif ' Martell' in GOT.loc[ index , 'name']:\n",
    "        GOT.loc[index, 'house_imput'] = 'House Martell'\n",
    "        \n",
    "    # checking for Arryn\n",
    "    elif ' Arryn' in GOT.loc[ index , 'name']:\n",
    "        GOT.loc[index, 'house_imput'] = 'House Arryn'\n",
    "        \n",
    "    # checking for Tully\n",
    "    elif ' Tully' in GOT.loc[ index , 'name']:\n",
    "        GOT.loc[index, 'house_imput'] = 'House Tully'\n",
    "        \n",
    "    # controlling unknown\n",
    "    else:\n",
    "        GOT.loc[index, 'house_imput'] = 'Unknown'\n",
    "              \n",
    "# use the house_imput values to fill missing values of culture (in a new column)\n",
    "GOT['house_2'] = GOT['house']\n",
    "GOT['house_2'].fillna(value = GOT['house_imput'], inplace = True)\n",
    "\n",
    "strong_houses = ['House Stark', 'House Targaryen', 'House Lannister', 'House Greyjoy', 'House Tyrell', 'House Baratheon', 'House Martell', 'House Arryn', 'House Tully']\n",
    "GOT['strong_house'] = np.where(GOT['house_2'].isin(strong_houses), \"house_Strong\", np.where(GOT['house_2'] == 'Unknown', 'house_Unknown', 'house_Other'))\n",
    "one_hot_house = pd.get_dummies(GOT['strong_house'])\n",
    "GOT = GOT.join([one_hot_house])\n",
    "\n",
    "################################################\n",
    "# impute spouse\n",
    "GOT['spouse_2'] = GOT['spouse']\n",
    "GOT['spouse_2'].fillna(value = 'Not_married', inplace = True)\n",
    "\n",
    "################################################\n",
    "# impute books to get all books (number of appearances)\n",
    "GOT['all_books'] = GOT['book1_A_Game_Of_Thrones'] + GOT['book2_A_Clash_Of_Kings'] + GOT['book3_A_Storm_Of_Swords'] + GOT['book4_A_Feast_For_Crows'] + GOT['book5_A_Dance_with_Dragons']\n",
    "# get a dummie to see if a character appears or not in the story\n",
    "GOT['in_story'] = np.where(GOT['all_books'] == 0, 'No_in_story', 'Yes_in_story')\n",
    "one_hot_story = pd.get_dummies(GOT['in_story'])\n",
    "GOT = GOT.join([one_hot_story])\n",
    "\n",
    "################################################\n",
    "# impute isAliveHeir\n",
    "GOT['isAliveHeir'].fillna(value = 0, inplace = True)\n",
    "\n",
    "################################################\n",
    "# impute isAliveSpouse\n",
    "GOT['isAliveSpouse'].fillna(value = 0, inplace = True)\n",
    "\n",
    "################################################\n",
    "# impute age and dateOfBirth\n",
    "# approach by imputing before creating the variable time_frame\n",
    "GOT['age'].fillna(value = GOT['age'].median(), inplace = True)\n",
    "GOT['dateOfBirth'].fillna(value = GOT['dateOfBirth'].median(), inplace = True)\n",
    "\n",
    "# creating the time_frame variable\n",
    "GOT['time_frame'] = GOT['age'] + GOT['dateOfBirth']\n",
    "\n",
    "# approach by imputing time_frame after creating the variable\n",
    "# using mean (not good)\n",
    "# GOT['time_frame'].fillna(value = GOT['time_frame'].mean(), inplace = True)\n",
    "# using median (not good)\n",
    "# GOT['time_frame'].fillna(value = GOT['time_frame'].median(), inplace = True)\n",
    "\n",
    "################################################\n",
    "# guess gender based on list obtained by running the gender_guesser.detector\n",
    "GOT['gender_guess'] = pd.Series(gender_list)\n",
    "GOT['gender_guess'] = np.where(GOT['gender_guess'] == 'mostly_male', 'male', np.where(GOT['gender_guess'] == 'mostly_female', 'female', np.where(GOT['gender_guess'] == 'andy', 'unknown', GOT['gender_guess'])))\n",
    "one_hot_gender = pd.get_dummies(GOT['gender_guess'])\n",
    "GOT = GOT.join([one_hot_gender])\n",
    "\n",
    "\n",
    "##############################################\n",
    "# obtaining the number of dead relatives by grouping based on the culture.\n",
    "GOT['relatives_dead_by_culture'] = GOT.groupby(by = 'culture_2')['numDeadRelations'].transform('mean')"
   ]
  },
  {
   "cell_type": "markdown",
   "id": "785a10c8",
   "metadata": {
    "deletable": false,
    "editable": false
   },
   "source": [
    "<br><br>\n",
    "<strong>Correlations</strong>\n",
    "<br>\n",
    "After engineering the features, a correlation matrix was developed in this section by setting one single variable to easily compare its correlation to the other variables.\n",
    "<br>\n",
    "In the example that is kept in the code, the variables with higher correlation with the response variable are easy to  identify.\n",
    "<br>"
   ]
  },
  {
   "cell_type": "code",
   "execution_count": 11,
   "id": "b0c421ab",
   "metadata": {
    "collapsed": true
   },
   "outputs": [
    {
     "data": {
      "text/plain": [
       "isAlive                       1.00\n",
       "time_frame                    0.31\n",
       "book4_A_Feast_For_Crows       0.27\n",
       "isAliveFather                 0.20\n",
       "Yes_in_story                  0.18\n",
       "m_dateOfBirth                 0.15\n",
       "m_age                         0.15\n",
       "m_isAliveMother               0.14\n",
       "m_mother                      0.14\n",
       "m_isAliveFather               0.14\n",
       "m_father                      0.14\n",
       "No_heir                       0.13\n",
       "m_isAliveHeir                 0.13\n",
       "m_heir                        0.13\n",
       "culture_Unknown               0.09\n",
       "house_Unknown                 0.08\n",
       "age                           0.05\n",
       "house_Other                   0.05\n",
       "m_spouse                      0.05\n",
       "m_isAliveSpouse               0.05\n",
       "female                        0.05\n",
       "No_received_title             0.04\n",
       "m_title                       0.04\n",
       "all_books                     0.04\n",
       "m_house                       0.04\n",
       "m_culture                     0.04\n",
       "culture_Other                 0.03\n",
       "book5_A_Dance_with_Dragons    0.03\n",
       "book3_A_Storm_Of_Swords       0.01\n",
       "male                         -0.00\n",
       "isAliveSpouse                -0.01\n",
       "unknown                      -0.03\n",
       "Yes_received_title           -0.04\n",
       "isNoble                      -0.04\n",
       "isAliveMother                -0.04\n",
       "isMarried                    -0.05\n",
       "dateOfBirth                  -0.05\n",
       "book2_A_Clash_Of_Kings       -0.07\n",
       "isAliveHeir                  -0.08\n",
       "Yes_heir                     -0.13\n",
       "house_Strong                 -0.15\n",
       "book1_A_Game_Of_Thrones      -0.15\n",
       "culture_Strong               -0.15\n",
       "No_in_story                  -0.18\n",
       "popularity                   -0.18\n",
       "numDeadRelations             -0.19\n",
       "relatives_dead_by_culture    -0.25\n",
       "Name: isAlive, dtype: float64"
      ]
     },
     "execution_count": 11,
     "metadata": {},
     "output_type": "execute_result"
    }
   ],
   "source": [
    "GOT.corr(method = 'pearson')['isAlive'].sort_values(ascending = False).round(2)"
   ]
  },
  {
   "cell_type": "markdown",
   "id": "aae3489e",
   "metadata": {
    "deletable": false,
    "editable": false
   },
   "source": [
    "<br><br>\n",
    "<strong>Stratifying response variable</strong>\n",
    "<br>\n",
    "To preserve the balance of the response variable in terms of the GOT dataset, it is important to have the same proportion of characters alive and not alive in both the training and testing sets. This is accomplished by using the <em>stratify</em> argument of the train_test_split.\n",
    "\n",
    "The following code shows the output of the original balance of alive vs not alive characters in the GOT books.\n",
    "<br>"
   ]
  },
  {
   "cell_type": "code",
   "execution_count": 12,
   "id": "44457f88",
   "metadata": {
    "collapsed": true
   },
   "outputs": [
    {
     "data": {
      "text/plain": [
       "1    0.75\n",
       "0    0.25\n",
       "Name: isAlive, dtype: float64"
      ]
     },
     "execution_count": 12,
     "metadata": {},
     "output_type": "execute_result"
    }
   ],
   "source": [
    "GOT.loc[ : ,'isAlive'].value_counts(normalize = True).round(decimals = 2)"
   ]
  },
  {
   "cell_type": "markdown",
   "id": "8fd99aa3",
   "metadata": {
    "deletable": false,
    "editable": false
   },
   "source": [
    "<br><br>\n",
    "<strong>Preparing Explanatory and Target Data Sets</strong>\n",
    "<br>\n",
    "The explanatory data is declared by including all the observations among every feature except those from the response variable (isAlive) which is dropped from this set. While the target data is declared by including only the isAlive column.\n",
    "<br>"
   ]
  },
  {
   "cell_type": "code",
   "execution_count": 13,
   "id": "d029776b",
   "metadata": {},
   "outputs": [],
   "source": [
    "# declaring explanatory variables\n",
    "GOT_data = GOT.drop('isAlive', axis = 1)\n",
    "\n",
    "# declaring response variable\n",
    "GOT_target = GOT.loc[ : , 'isAlive']"
   ]
  },
  {
   "cell_type": "markdown",
   "id": "8b762983",
   "metadata": {
    "deletable": false,
    "editable": false
   },
   "source": [
    "<br>\n",
    "<strong>Preparing rain-test split for statsmodels</strong>\n",
    "<br>\n",
    "By using the <em>stratify</em> argument, the balance of the target variable is preserved in the training and testing sets.\n",
    "<br>\n",
    "Also, a print statement is used to compare the proportions of the mentioned sets. Clearly the balance of the target variable has been preserved.\n",
    "<br>"
   ]
  },
  {
   "cell_type": "code",
   "execution_count": 14,
   "id": "f7f8bbc6",
   "metadata": {
    "collapsed": true
   },
   "outputs": [
    {
     "name": "stdout",
     "output_type": "stream",
     "text": [
      "\n",
      "\n",
      "Response Variable Proportions (Training Set)\n",
      "--------------------------------------------\n",
      "1    0.75\n",
      "0    0.25\n",
      "Name: isAlive, dtype: float64\n",
      "\n",
      "Response Variable Proportions (Testing Set)\n",
      "--------------------------------------------\n",
      "1    0.74\n",
      "0    0.26\n",
      "Name: isAlive, dtype: float64\n",
      "\n"
     ]
    }
   ],
   "source": [
    "# train-test split with stratification\n",
    "x_train, x_test, y_train, y_test = train_test_split(\n",
    "            GOT_data,\n",
    "            GOT_target,\n",
    "            test_size    = 0.10,\n",
    "            random_state = 219,\n",
    "            stratify     = GOT_target) # preserving balance\n",
    "\n",
    "# merging training data for statsmodels\n",
    "GOT_train = pd.concat([x_train, y_train], axis = 1)\n",
    "\n",
    "print(f\"\"\"\n",
    "\n",
    "Response Variable Proportions (Training Set)\n",
    "--------------------------------------------\n",
    "{y_train.value_counts(normalize = True).round(decimals = 2)}\n",
    "\n",
    "Response Variable Proportions (Testing Set)\n",
    "--------------------------------------------\n",
    "{y_test.value_counts(normalize = True).round(decimals = 2)}\n",
    "\"\"\")"
   ]
  },
  {
   "cell_type": "markdown",
   "id": "b017439f",
   "metadata": {
    "deletable": false,
    "editable": false
   },
   "source": [
    "<br><br>\n",
    "<strong>Initial Logistic Regression Model</strong>\n",
    "<br>\n",
    "In the following section I created a logistic regression using different combinations of original and engineered features to look for p-values, and coefficients to understand the effect of these variables and determine possible new variables that could be developed in order to have a bigger impact in improving the model performance.\n",
    "<br><br>\n",
    "As mentioned before, this was an on going process coming back to this section and the creation and validation of new variables or categories.\n",
    "<br>"
   ]
  },
  {
   "cell_type": "code",
   "execution_count": 15,
   "id": "9d9e8c99",
   "metadata": {
    "collapsed": true
   },
   "outputs": [
    {
     "name": "stdout",
     "output_type": "stream",
     "text": [
      "Optimization terminated successfully.\n",
      "         Current function value: 0.457443\n",
      "         Iterations 10\n"
     ]
    },
    {
     "data": {
      "text/html": [
       "<table class=\"simpletable\">\n",
       "<tr>\n",
       "        <td>Model:</td>              <td>Logit</td>      <td>Pseudo R-squared:</td>    <td>0.193</td>  \n",
       "</tr>\n",
       "<tr>\n",
       "  <td>Dependent Variable:</td>      <td>isAlive</td>           <td>AIC:</td>         <td>1609.9642</td>\n",
       "</tr>\n",
       "<tr>\n",
       "         <td>Date:</td>        <td>2021-12-05 14:36</td>       <td>BIC:</td>         <td>1631.8360</td>\n",
       "</tr>\n",
       "<tr>\n",
       "   <td>No. Observations:</td>        <td>1751</td>        <td>Log-Likelihood:</td>    <td>-800.98</td> \n",
       "</tr>\n",
       "<tr>\n",
       "       <td>Df Model:</td>              <td>3</td>            <td>LL-Null:</td>        <td>-992.53</td> \n",
       "</tr>\n",
       "<tr>\n",
       "     <td>Df Residuals:</td>          <td>1747</td>         <td>LLR p-value:</td>    <td>1.0111e-82</td>\n",
       "</tr>\n",
       "<tr>\n",
       "      <td>Converged:</td>           <td>1.0000</td>           <td>Scale:</td>         <td>1.0000</td>  \n",
       "</tr>\n",
       "<tr>\n",
       "    <td>No. Iterations:</td>        <td>10.0000</td>             <td></td>               <td></td>     \n",
       "</tr>\n",
       "</table>\n",
       "<table class=\"simpletable\">\n",
       "<tr>\n",
       "             <td></td>               <th>Coef.</th>  <th>Std.Err.</th>    <th>z</th>     <th>P>|z|</th>  <th>[0.025</th>   <th>0.975]</th> \n",
       "</tr>\n",
       "<tr>\n",
       "  <th>Intercept</th>               <td>-54.2942</td>  <td>7.7322</td>  <td>-7.0218</td> <td>0.0000</td> <td>-69.4491</td> <td>-39.1393</td>\n",
       "</tr>\n",
       "<tr>\n",
       "  <th>time_frame</th>               <td>0.1869</td>   <td>0.0262</td>  <td>7.1249</td>  <td>0.0000</td>  <td>0.1355</td>   <td>0.2383</td> \n",
       "</tr>\n",
       "<tr>\n",
       "  <th>book4_A_Feast_For_Crows</th>  <td>1.0474</td>   <td>0.1286</td>  <td>8.1468</td>  <td>0.0000</td>  <td>0.7954</td>   <td>1.2994</td> \n",
       "</tr>\n",
       "<tr>\n",
       "  <th>popularity</th>               <td>-3.5765</td>  <td>0.4057</td>  <td>-8.8166</td> <td>0.0000</td>  <td>-4.3716</td>  <td>-2.7815</td>\n",
       "</tr>\n",
       "</table>"
      ],
      "text/plain": [
       "<class 'statsmodels.iolib.summary2.Summary'>\n",
       "\"\"\"\n",
       "                              Results: Logit\n",
       "==========================================================================\n",
       "Model:                 Logit               Pseudo R-squared:    0.193     \n",
       "Dependent Variable:    isAlive             AIC:                 1609.9642 \n",
       "Date:                  2021-12-05 14:36    BIC:                 1631.8360 \n",
       "No. Observations:      1751                Log-Likelihood:      -800.98   \n",
       "Df Model:              3                   LL-Null:             -992.53   \n",
       "Df Residuals:          1747                LLR p-value:         1.0111e-82\n",
       "Converged:             1.0000              Scale:               1.0000    \n",
       "No. Iterations:        10.0000                                            \n",
       "--------------------------------------------------------------------------\n",
       "                         Coef.   Std.Err.    z    P>|z|   [0.025   0.975] \n",
       "--------------------------------------------------------------------------\n",
       "Intercept               -54.2942   7.7322 -7.0218 0.0000 -69.4491 -39.1393\n",
       "time_frame                0.1869   0.0262  7.1249 0.0000   0.1355   0.2383\n",
       "book4_A_Feast_For_Crows   1.0474   0.1286  8.1468 0.0000   0.7954   1.2994\n",
       "popularity               -3.5765   0.4057 -8.8166 0.0000  -4.3716  -2.7815\n",
       "==========================================================================\n",
       "\n",
       "\"\"\""
      ]
     },
     "execution_count": 15,
     "metadata": {},
     "output_type": "execute_result"
    }
   ],
   "source": [
    "# instantiating a logistic regression model object\n",
    "logistic_full = smf.logit(formula = \"\"\" isAlive ~  \n",
    "                                        time_frame +\n",
    "                                        book4_A_Feast_For_Crows + \n",
    "                                        popularity\"\"\",\n",
    "                                             data    = GOT_train)\n",
    "\n",
    "# fitting the model object\n",
    "results_full = logistic_full.fit()\n",
    "\n",
    "# checking the results SUMMARY\n",
    "results_full.summary2()"
   ]
  },
  {
   "cell_type": "markdown",
   "id": "69a4017b",
   "metadata": {
    "deletable": false,
    "editable": false
   },
   "source": [
    "<br><br>\n",
    "<strong>Dropping not required features</strong>\n",
    "<br>\n",
    "In the following code I removed the columns that wouldn't allow my model to compute properly, some of the dropped variables include a column of one-hot encoded features, original features that were imputed into new columns or that had been engineered in different ways.\n",
    "<br>"
   ]
  },
  {
   "cell_type": "code",
   "execution_count": 16,
   "id": "f9b9b8d8",
   "metadata": {
    "collapsed": true
   },
   "outputs": [
    {
     "data": {
      "text/plain": [
       "Index(['book1_A_Game_Of_Thrones', 'book2_A_Clash_Of_Kings', 'book3_A_Storm_Of_Swords', 'book4_A_Feast_For_Crows', 'isMarried', 'isNoble', 'numDeadRelations', 'popularity', 'isAlive', 'm_isAliveMother', 'm_isAliveFather', 'm_isAliveSpouse', 'Yes_received_title', 'culture_Other', 'culture_Strong', 'Yes_heir', 'house_Strong', 'house_Unknown', 'all_books', 'No_in_story', 'time_frame', 'male', 'unknown', 'relatives_dead_by_culture'], dtype='object')"
      ]
     },
     "execution_count": 16,
     "metadata": {},
     "output_type": "execute_result"
    }
   ],
   "source": [
    "# dropping features that are not required (e.g. one dummie, name, original variales that have been engineered, etc.)\n",
    "GOT = GOT.drop(['name', 'title', 'culture', 'dateOfBirth', 'mother', 'father', 'heir', 'house', 'spouse',\n",
    "                'book5_A_Dance_with_Dragons', 'isAliveMother', 'isAliveFather', 'isAliveHeir', 'isAliveSpouse',\n",
    "                'age', 'm_title', 'm_culture', 'm_dateOfBirth', 'm_mother', 'm_father', 'm_heir',\n",
    "                'm_house', 'm_spouse', 'm_isAliveHeir', 'm_age', 'title_received', 'No_received_title',\n",
    "                'culture_imput', 'culture_2', 'strong_culture', 'culture_Unknown', 'has_heir', 'No_heir',\n",
    "                'house_imput', 'house_2', 'strong_house', 'house_Other', 'spouse_2', 'in_story', 'Yes_in_story',\n",
    "                'gender_guess', 'female'], axis   = 1)\n",
    "# checking results\n",
    "GOT.columns"
   ]
  },
  {
   "cell_type": "markdown",
   "id": "876fd199",
   "metadata": {
    "deletable": false,
    "editable": false
   },
   "source": [
    "<br>\n",
    "<strong>Developing candidates models and storing as dictionaries</strong>\n",
    "<br>\n",
    "In the following code I created a dictionary of the full features and each candidate model's explanatory variables identified by using the initial logistic regression from above. \n",
    "<br>"
   ]
  },
  {
   "cell_type": "code",
   "execution_count": 17,
   "id": "045f232d",
   "metadata": {},
   "outputs": [],
   "source": [
    "# creating a dictionary to store candidate models\n",
    "candidate_dict = {\n",
    "\n",
    " # full model\n",
    " 'logit_full'   : ['book1_A_Game_Of_Thrones', 'book2_A_Clash_Of_Kings', 'book3_A_Storm_Of_Swords',\n",
    "                   'book4_A_Feast_For_Crows', 'm_isAliveFather', 'isMarried', 'isNoble', 'numDeadRelations',\n",
    "                   'popularity', 'm_isAliveMother', 'm_isAliveSpouse', 'Yes_received_title', 'culture_Other',\n",
    "                   'culture_Strong', 'Yes_heir', 'house_Strong', 'house_Unknown', 'all_books', 'No_in_story',\n",
    "                   'time_frame', 'male', 'unknown', 'relatives_dead_by_culture'],\n",
    " \n",
    " # significant variables only (set 1)\n",
    " 'logit_sig_1'    : ['m_isAliveSpouse' , 'isMarried', 'numDeadRelations', 'm_isAliveMother',\n",
    "                   'male', 'unknown', 'time_frame'],\n",
    "    \n",
    " # significant variables only (set 2)\n",
    " 'logit_sig_2'  : ['time_frame', 'all_books', 'popularity', 'culture_Strong', 'numDeadRelations'],\n",
    "    \n",
    " # significant variables only (set 3)\n",
    " 'logit_sig_3'  : ['time_frame', 'book4_A_Feast_For_Crows', 'numDeadRelations', 'popularity',\n",
    "                  'house_Strong', 'culture_Strong', 'isNoble', 'Yes_received_title', 'Yes_heir'],\n",
    " \n",
    " # significant variables only (set 4)\n",
    " 'logit_sig_4'  : ['time_frame', 'book4_A_Feast_For_Crows', 'popularity', 'relatives_dead_by_culture',\n",
    "                   'No_in_story', 'm_isAliveSpouse'],\n",
    "    \n",
    " # significant variables only (set 5)\n",
    " 'logit_sig_5'  : ['time_frame', 'book4_A_Feast_For_Crows', 'popularity', 'relatives_dead_by_culture',\n",
    "                   'No_in_story']\n",
    "}"
   ]
  },
  {
   "cell_type": "markdown",
   "id": "9e7c7192",
   "metadata": {
    "deletable": false,
    "editable": false
   },
   "source": [
    "<br><br>\n",
    "<strong>Preparing data for the models</strong>\n",
    "<br>\n",
    "I set my data to include the desired previously defined dictionaries and target data to include only my response variable. The following code was modified during all the model testings that were developed in order to include the different dictionaries.\n",
    "<br><br>\n",
    "Also, a scaling of the data was developed in this section by using the <em>StanderScaler</em> and fitting it to the declared data. In order to be able to run my models on the scaled and unscaled data, two different train-test-splits could be obtained from the following code by deciding which x data is provided to the train/test split. Moreover, the balance of the target variable is still preserved in the training and testing sets with the stratify argument.\n",
    "<br><br>"
   ]
  },
  {
   "cell_type": "code",
   "execution_count": 18,
   "id": "66f7ca7d",
   "metadata": {},
   "outputs": [],
   "source": [
    "GOT_data   =  GOT.loc[ : , candidate_dict['logit_sig_4']]\n",
    "GOT_target =  GOT.loc[ : , 'isAlive']\n",
    "\n",
    "# INSTANTIATING StandardScaler()\n",
    "scaler = StandardScaler()\n",
    "\n",
    "# FITTING the data\n",
    "scaler.fit(GOT_data)\n",
    "\n",
    "# TRANSFORMING the data\n",
    "x_scaled     = scaler.transform(GOT_data)\n",
    "\n",
    "# converting to a DataFrame\n",
    "x_scaled_df  = pd.DataFrame(x_scaled) \n",
    "\n",
    "# train/test split with scaled data or not scaled data\n",
    "x_train, x_test, y_train, y_test = train_test_split(\n",
    "            #GOT_data,    # used when needed to split with not scaled data\n",
    "            x_scaled_df,  # #used when needed to split with scaled data\n",
    "            GOT_target,\n",
    "            test_size    = 0.10,\n",
    "            random_state = 219,\n",
    "            stratify     = GOT_target)"
   ]
  },
  {
   "cell_type": "markdown",
   "id": "112f1a68",
   "metadata": {
    "deletable": false,
    "editable": false
   },
   "source": [
    "<br><br>\n",
    "<strong>Classification models development</strong>\n",
    "<br>\n",
    "In the following sections I modeled many classification models using Logistic Regression, KNN Classifier, Decision Tree Classifier, Random Forest Classifier and Gradient Boosting Machine. \n",
    "<br>\n",
    "As mentioned before, this was an on going process coming back to this section to set different desired GOT data dictionaries and being it scaled or not.\n",
    "<br><br>\n",
    "After looking at the final outputs of every model, only the best ones where selected. For each model the following is included:\n",
    "<br>\n",
    "1. Model Instantiating, model fitting, model predicting and saving of scoring data to be used for evaluation and comparison among models. The scoring that were used are the testing and training scores, and the Area Under the Curve (AUC) which includes two factors:<br>\n",
    "a. Sensitivity: Number of times the model predicted that a character would be alive over the number of times the character is actually alive.<br>\n",
    "b. Specificity: Number of times the model predicted that a character would NOT be alive over the number of times the character is actually not alive.<br>\n",
    "<br>\n",
    "2. Confusion matrix: unpacking and visualizing each confusion matrix. All of the confusion matrices generated follow the same format which is presented below:<br>\n",
    "\n",
    "~~~\n",
    "                                         |\n",
    "  PREDICTED: Not alive (isAlive = 0)     |    PREDICTED: Alive     (isAlive = 1)\n",
    "  ACTUAL:    Not alive (isAlive = 0)     |    ACTUAL:    Not alive (isAlive = 0)\n",
    "                                         |\n",
    "-----------------------------------------|-----------------------------------------------\n",
    "                                         |\n",
    "  PREDICTED: Not alive (isAlive = 0)     |    PREDICTED: Alive     (isAlive = 1)\n",
    "  ACTUAL:    Alive     (isAlive = 1)     |    ACTUAL:    Alive     (isAlive = 1)\n",
    "                                         |  \n",
    "~~~\n",
    "\n",
    "From each matrix it was possible to interpret the following metrics:<br>\n",
    "a. Accuracy: Number of times the model predicted correctly if a character would be alive or not.<br>\n",
    "b. Precision: Number of times the model correctly predicted that a character would be alive over the total number of times that the model predicted that a character would be alive.<br>\n",
    "c. Sensitivity: Already explained above.<br>\n",
    "d. Specificity: Already explained above.<br><br>\n",
    "<strong>Note:</strong> it is important to mention that only for the best models an interpretation is included in this section, given that it was an on going process and the same piece of code was used to run different models.\n",
    "<br><br>\n",
    "3. Creating or updating a model performance dictionary. This is used to generate a table that easily allowed me to compare all the produced models based on their AUC score, testing and training scores and respective confusion matrix.<br>"
   ]
  },
  {
   "cell_type": "markdown",
   "id": "c103d868",
   "metadata": {
    "deletable": false,
    "editable": false
   },
   "source": [
    "<strong>Logistic regression</strong><br>\n",
    "<em><strong>Model Instantiating, model fitting, model predicting and saving of scoring data to be used for evaluation and comparison among models.</strong></em>"
   ]
  },
  {
   "cell_type": "code",
   "execution_count": 19,
   "id": "fad6b1cd",
   "metadata": {},
   "outputs": [],
   "source": [
    "# INSTANTIATING a logistic regression model\n",
    "logreg = LogisticRegression(solver = 'lbfgs',\n",
    "                            C = 1,\n",
    "                            random_state = 219)\n",
    "\n",
    "# FITTING the training data\n",
    "logreg_fit = logreg.fit(x_train, y_train)\n",
    "\n",
    "# PREDICTING based on the testing set\n",
    "logreg_pred = logreg_fit.predict(x_test)\n",
    "\n",
    "# saving scoring data for future use\n",
    "logreg_train_score = logreg_fit.score(x_train, y_train).round(4) # accuracy\n",
    "logreg_test_score  = logreg_fit.score(x_test, y_test).round(4) # accuracy\n",
    "# saving AUC score for future use\n",
    "logreg_auc_score = roc_auc_score(y_true  = y_test,\n",
    "                                 y_score = logreg_pred).round(decimals = 4)"
   ]
  },
  {
   "cell_type": "markdown",
   "id": "9740b63b",
   "metadata": {
    "deletable": false,
    "editable": false
   },
   "source": [
    "<em><strong>Confusion matrix:</strong></em> unpacking and visualizing the confusion matrix following the previously defined format."
   ]
  },
  {
   "cell_type": "code",
   "execution_count": 20,
   "id": "3657a1bb",
   "metadata": {},
   "outputs": [],
   "source": [
    "# unpacking the confusion matrix\n",
    "logreg_tn, \\\n",
    "logreg_fp, \\\n",
    "logreg_fn, \\\n",
    "logreg_tp = confusion_matrix(y_true = y_test, y_pred = logreg_pred).ravel()"
   ]
  },
  {
   "cell_type": "code",
   "execution_count": 21,
   "id": "f82ea306",
   "metadata": {
    "collapsed": true
   },
   "outputs": [
    {
     "data": {
      "image/png": "[encoded data removed]",
      "text/plain": [
       "<Figure size 432x288 with 2 Axes>"
      ]
     },
     "metadata": {
      "needs_background": "light"
     },
     "output_type": "display_data"
    }
   ],
   "source": [
    "# calling the visual_cm function\n",
    "visual_cm(true_y = y_test,\n",
    "          pred_y = logreg_pred,\n",
    "          labels = ['Not Alive - 0', 'Alive - 1'])"
   ]
  },
  {
   "cell_type": "markdown",
   "id": "b1a1d1bd",
   "metadata": {
    "deletable": false,
    "editable": false
   },
   "source": [
    "<em><strong>Creating/updating model performance dictionary</strong></em>"
   ]
  },
  {
   "cell_type": "code",
   "execution_count": 22,
   "id": "1a5447ba",
   "metadata": {},
   "outputs": [],
   "source": [
    "# this code has to be run only the first time the models are run,\n",
    "# if more comparissons are required, then the next line of code should be\n",
    "# run instead of this one to ensure that the new outputs are recorded into a\n",
    "# new row in the model_performance\n",
    "\n",
    "# creating a dictionary for model results\n",
    "model_performance = {\n",
    "    \n",
    "    'Model Name'    : ['Logistic (full 4)'],\n",
    "           \n",
    "    'AUC Score' : [logreg_auc_score],\n",
    "    \n",
    "    'Training Accuracy' : [logreg_train_score],\n",
    "           \n",
    "    'Testing Accuracy'  : [logreg_test_score],\n",
    "\n",
    "    'Confusion Matrix'  : [(logreg_tn, logreg_fp, logreg_fn, logreg_tp)]}\n",
    "\n",
    "\n",
    "# converting model_performance into a DataFrame\n",
    "model_performance = pd.DataFrame(model_performance)\n",
    "\n",
    "# checking the results, uncomment when required\n",
    "#model_performance"
   ]
  },
  {
   "cell_type": "code",
   "execution_count": null,
   "id": "c838e794",
   "metadata": {
    "deletable": false,
    "editable": false,
    "run_control": {
     "frozen": true
    }
   },
   "outputs": [],
   "source": [
    "# this code has to be run when comparissons of different models are required,\n",
    "# if this is the first time running any model, the previous line of code should be run\n",
    "# for this reason this cell has been frozen, until it is required.\n",
    "\n",
    "# appending to model_performance\n",
    "model_performance = model_performance.append(\n",
    "                          {'Model Name'         : 'logreg (set_4_not scaled)',\n",
    "                           'Training Accuracy'  : logreg_train_score,\n",
    "                           'Testing Accuracy'   : logreg_test_score,\n",
    "                           'AUC Score'          : logreg_auc_score,\n",
    "                           'Confusion Matrix'   : (logreg_tn,\n",
    "                                                   logreg_fp,\n",
    "                                                   logreg_fn,\n",
    "                                                   logreg_tp)},\n",
    "                          ignore_index = True)\n",
    "\n",
    "# checking the results, uncomment when required\n",
    "#model_performance"
   ]
  },
  {
   "cell_type": "markdown",
   "id": "1eb8f6e4",
   "metadata": {
    "deletable": false,
    "editable": false
   },
   "source": [
    "<strong>KNN</strong><br>\n",
    "<em><strong>Model Instantiating, model fitting, model predicting and saving of scoring data to be used for evaluation and comparison among models.</strong></em>"
   ]
  },
  {
   "cell_type": "code",
   "execution_count": 23,
   "id": "b333f038",
   "metadata": {
    "collapsed": true
   },
   "outputs": [
    {
     "data": {
      "image/png": "[encoded data removed]",
      "text/plain": [
       "<Figure size 864x576 with 1 Axes>"
      ]
     },
     "metadata": {
      "needs_background": "light"
     },
     "output_type": "display_data"
    },
    {
     "name": "stdout",
     "output_type": "stream",
     "text": [
      "The optimal number of neighbors is: 12\n"
     ]
    }
   ],
   "source": [
    "# determining the optimal number of neighbors\n",
    "opt_neighbors = optimal_neighbors(x_data        = GOT_data,\n",
    "                                  y_data        = GOT_target,\n",
    "                                  response_type = 'class')"
   ]
  },
  {
   "cell_type": "code",
   "execution_count": 24,
   "id": "2523e827",
   "metadata": {},
   "outputs": [],
   "source": [
    "# INSTANTIATING a KNN regression model\n",
    "KNN = KNeighborsClassifier(n_neighbors = opt_neighbors)\n",
    "\n",
    "# FITTING the training data\n",
    "KNN_fit = KNN.fit(x_train, y_train)\n",
    "\n",
    "# PREDICTING based on the testing set\n",
    "KNN_pred = KNN_fit.predict(x_test)\n",
    "\n",
    "# saving scoring data for future use\n",
    "KNN_train_score = KNN_fit.score(x_train, y_train).round(4) # accuracy\n",
    "KNN_test_score  = KNN_fit.score(x_test, y_test).round(4) # accuracy\n",
    "# saving AUC score for future use\n",
    "KNN_auc_score = roc_auc_score(y_true  = y_test,\n",
    "                              y_score = KNN_pred).round(decimals = 4)"
   ]
  },
  {
   "cell_type": "markdown",
   "id": "7b6bfee8",
   "metadata": {
    "deletable": false,
    "editable": false
   },
   "source": [
    "<em><strong>Confusion matrix:</strong></em> unpacking and visualizing the confusion matrix following the previously defined format."
   ]
  },
  {
   "cell_type": "code",
   "execution_count": 25,
   "id": "11aac2f0",
   "metadata": {},
   "outputs": [],
   "source": [
    "# unpacking the confusion matrix\n",
    "KNN_tn, \\\n",
    "KNN_fp, \\\n",
    "KNN_fn, \\\n",
    "KNN_tp = confusion_matrix(y_true = y_test, y_pred = KNN_pred).ravel()"
   ]
  },
  {
   "cell_type": "code",
   "execution_count": 26,
   "id": "15ec7f6a",
   "metadata": {
    "collapsed": true
   },
   "outputs": [
    {
     "data": {
      "image/png": "[encoded data removed]",
      "text/plain": [
       "<Figure size 432x288 with 2 Axes>"
      ]
     },
     "metadata": {
      "needs_background": "light"
     },
     "output_type": "display_data"
    }
   ],
   "source": [
    "# calling the visual_cm function\n",
    "visual_cm(true_y = y_test,\n",
    "          pred_y = KNN_pred,\n",
    "          labels = ['Not Alive - 0', 'Alive - 1'])"
   ]
  },
  {
   "cell_type": "markdown",
   "id": "d52c79ae",
   "metadata": {
    "deletable": false,
    "editable": false
   },
   "source": [
    "<em><strong>Updating model performance</strong></em>"
   ]
  },
  {
   "cell_type": "code",
   "execution_count": 27,
   "id": "34e32fb4",
   "metadata": {},
   "outputs": [],
   "source": [
    "# appending to model_performance\n",
    "model_performance = model_performance.append(\n",
    "                          {'Model Name'         : 'KNN (set_4_not scaled)',\n",
    "                           'Training Accuracy'  : KNN_train_score,\n",
    "                           'Testing Accuracy'   : KNN_test_score,\n",
    "                           'AUC Score'          : KNN_auc_score,\n",
    "                           'Confusion Matrix'   : (KNN_tn,\n",
    "                                                   KNN_fp,\n",
    "                                                   KNN_fn,\n",
    "                                                   KNN_tp)},\n",
    "                          ignore_index = True)\n",
    "\n",
    "# checking the results, uncomment when required\n",
    "#model_performance"
   ]
  },
  {
   "cell_type": "markdown",
   "id": "bf03fea4",
   "metadata": {
    "deletable": false,
    "editable": false
   },
   "source": [
    "<strong>Decision tree classifier</strong><br>\n",
    "<em><strong>Model Instantiating, model fitting, model predicting and saving of scoring data to be used for evaluation and comparison among models.</strong></em>\n",
    "<br>"
   ]
  },
  {
   "cell_type": "code",
   "execution_count": 28,
   "id": "0f469432",
   "metadata": {},
   "outputs": [],
   "source": [
    "#####################################################################\n",
    "# this section is included to gurantee that the final table of the code includes\n",
    "# the DTC with the \"logit_sig_4\" set of variables given that the selected GMB\n",
    "# model runs on the \"logit_full\" variables set.\n",
    "\n",
    "GOT_data   =  GOT.loc[ : , candidate_dict['logit_sig_4']]\n",
    "GOT_target =  GOT.loc[ : , 'isAlive']\n",
    "# INSTANTIATING StandardScaler()\n",
    "scaler = StandardScaler()\n",
    "# FITTING the data\n",
    "scaler.fit(GOT_data)\n",
    "# TRANSFORMING the data\n",
    "x_scaled     = scaler.transform(GOT_data)\n",
    "# converting to a DataFrame\n",
    "x_scaled_df  = pd.DataFrame(x_scaled) \n",
    "# train/test split with scaled data or not scaled data\n",
    "x_train, x_test, y_train, y_test = train_test_split(\n",
    "            #GOT_data,    # used when needed to split with not scaled data\n",
    "            x_scaled_df,  # #used when needed to split with scaled data\n",
    "            GOT_target,\n",
    "            test_size    = 0.10,\n",
    "            random_state = 219,\n",
    "            stratify     = GOT_target)\n",
    "#####################################################################\n",
    "\n",
    "# INSTANTIATING a DecisionTreeClassifier regression model\n",
    "DTC = DecisionTreeClassifier(max_depth = 8, random_state = 219, min_samples_leaf = 1, class_weight= 'balanced')\n",
    "\n",
    "# FITTING the training data\n",
    "DTC_fit = DTC.fit(x_train, y_train)\n",
    "\n",
    "# PREDICTING based on the testing set\n",
    "DTC_pred = DTC_fit.predict(x_test)\n",
    "\n",
    "# saving scoring data for future use\n",
    "DTC_train_score = DTC_fit.score(x_train, y_train).round(4) # accuracy\n",
    "DTC_test_score  = DTC_fit.score(x_test, y_test).round(4) # accuracy\n",
    "# saving AUC score for future use\n",
    "DTC_auc_score = roc_auc_score(y_true  = y_test,\n",
    "                              y_score = DTC_pred).round(decimals = 4)"
   ]
  },
  {
   "cell_type": "markdown",
   "id": "7744c4cd",
   "metadata": {
    "deletable": false,
    "editable": false
   },
   "source": [
    "<em><strong>Confusion matrix:</strong></em> unpacking and visualizing the confusion matrix following the previously defined format."
   ]
  },
  {
   "cell_type": "code",
   "execution_count": 29,
   "id": "87db67a0",
   "metadata": {},
   "outputs": [],
   "source": [
    "# unpacking the confusion matrix\n",
    "DTC_tn, \\\n",
    "DTC_fp, \\\n",
    "DTC_fn, \\\n",
    "DTC_tp = confusion_matrix(y_true = y_test, y_pred = DTC_pred).ravel()"
   ]
  },
  {
   "cell_type": "code",
   "execution_count": 30,
   "id": "5df50875",
   "metadata": {
    "collapsed": true
   },
   "outputs": [
    {
     "data": {
      "image/png": "[encoded data removed]",
      "text/plain": [
       "<Figure size 432x288 with 2 Axes>"
      ]
     },
     "metadata": {
      "needs_background": "light"
     },
     "output_type": "display_data"
    }
   ],
   "source": [
    "# calling the visual_cm function\n",
    "visual_cm(true_y = y_test,\n",
    "          pred_y = DTC_pred,\n",
    "          labels = ['Not Alive - 0', 'Alive - 1'])"
   ]
  },
  {
   "cell_type": "markdown",
   "id": "501ed407",
   "metadata": {
    "deletable": false,
    "editable": false
   },
   "source": [
    "The previous codes produced a matrix from which the metrics below could be calculated, taking into account a model that used scaled data and the set of variables # 4 \"logit_sig_4\":<br>\n",
    "-Accuracy: 0.86<br>\n",
    "-Precision: 0.93<br>\n",
    "-Sensitivity: 0.87<br>\n",
    "-Specificity: 0.82<br>\n",
    "<br>\n",
    "From this it can be seen that the model was good at correctly predicting the number of times that a character would be alive over the total number of times that the model predicted that a character would be alive. That is why there's a small amount of cases where the model incorrectly predicted a character would be alive when it actually wasn't. In this same context, the model had a small quantity of cases where it predicted a character wouldn't be alive when it actually was alive. Also, the training and testing scores have a gap that is below 0.05. \n",
    "<br><br>\n",
    "For these reasons, and because the model has an AUC of 0.84, it is selected as a good candidate to have its hyperparameters tunned in the later sections.\n",
    "<br>"
   ]
  },
  {
   "cell_type": "markdown",
   "id": "7d527f8e",
   "metadata": {
    "deletable": false,
    "editable": false
   },
   "source": [
    "<em><strong>Updating model performance</strong></em>"
   ]
  },
  {
   "cell_type": "code",
   "execution_count": 31,
   "id": "2e08c3ce",
   "metadata": {},
   "outputs": [],
   "source": [
    "# appending to model_performance\n",
    "model_performance = model_performance.append(\n",
    "                          {'Model Name'         : 'DTC (set_4)',\n",
    "                           'Training Accuracy'  : DTC_train_score,\n",
    "                           'Testing Accuracy'   : DTC_test_score,\n",
    "                           'AUC Score'          : DTC_auc_score,\n",
    "                           'Confusion Matrix'   : (DTC_tn,\n",
    "                                                   DTC_fp,\n",
    "                                                   DTC_fn,\n",
    "                                                   DTC_tp)},\n",
    "                          ignore_index = True)\n",
    "\n",
    "# checking the results, uncomment when required\n",
    "#model_performance"
   ]
  },
  {
   "cell_type": "markdown",
   "id": "bdb6d657",
   "metadata": {
    "deletable": false,
    "editable": false
   },
   "source": [
    "<strong>Random Forest</strong><br>\n",
    "<em><strong>Model Instantiating, model fitting, model predicting and saving of scoring data to be used for evaluation and \n",
    "comparison among models.</strong></em>"
   ]
  },
  {
   "cell_type": "code",
   "execution_count": 32,
   "id": "999c4343",
   "metadata": {},
   "outputs": [],
   "source": [
    "#####################################################################\n",
    "# this section is included to gurantee that the final table of the code includes\n",
    "# the RFC with the \"logit_sig_4\" set of variables given that the selected GMB\n",
    "# model runs on the \"logit_full\" variables set.\n",
    "\n",
    "GOT_data   =  GOT.loc[ : , candidate_dict['logit_sig_4']]\n",
    "GOT_target =  GOT.loc[ : , 'isAlive']\n",
    "# INSTANTIATING StandardScaler()\n",
    "scaler = StandardScaler()\n",
    "# FITTING the data\n",
    "scaler.fit(GOT_data)\n",
    "# TRANSFORMING the data\n",
    "x_scaled     = scaler.transform(GOT_data)\n",
    "# converting to a DataFrame\n",
    "x_scaled_df  = pd.DataFrame(x_scaled) \n",
    "# train/test split with scaled data or not scaled data\n",
    "x_train, x_test, y_train, y_test = train_test_split(\n",
    "            #GOT_data,    # used when needed to split with not scaled data\n",
    "            x_scaled_df,  # #used when needed to split with scaled data\n",
    "            GOT_target,\n",
    "            test_size    = 0.10,\n",
    "            random_state = 219,\n",
    "            stratify     = GOT_target)\n",
    "#####################################################################\n",
    "\n",
    "# INSTANTIATING a RandomForestClassifier regression model\n",
    "RFC = RandomForestClassifier(n_estimators = 100, max_depth = 8, random_state = 219, class_weight= 'balanced')\n",
    "\n",
    "# FITTING the training data\n",
    "RFC_fit = RFC.fit(x_train, y_train)\n",
    "\n",
    "# PREDICTING based on the testing set\n",
    "RFC_pred = RFC_fit.predict(x_test)\n",
    "\n",
    "# saving scoring data for future use\n",
    "RFC_train_score = RFC_fit.score(x_train, y_train).round(4) # accuracy\n",
    "RFC_test_score  = RFC_fit.score(x_test, y_test).round(4) # accuracy\n",
    "# saving AUC score for future use\n",
    "RFC_auc_score = roc_auc_score(y_true  = y_test,\n",
    "                              y_score = RFC_pred).round(decimals = 4)"
   ]
  },
  {
   "cell_type": "markdown",
   "id": "3ce65af7",
   "metadata": {
    "deletable": false,
    "editable": false
   },
   "source": [
    "<em><strong>Confusion matrix:</strong></em> unpacking and visualizing the confusion matrix following the previously defined format."
   ]
  },
  {
   "cell_type": "code",
   "execution_count": 33,
   "id": "3ecfba7a",
   "metadata": {},
   "outputs": [],
   "source": [
    "# unpacking the confusion matrix\n",
    "RFC_tn, \\\n",
    "RFC_fp, \\\n",
    "RFC_fn, \\\n",
    "RFC_tp = confusion_matrix(y_true = y_test, y_pred = RFC_pred).ravel()"
   ]
  },
  {
   "cell_type": "code",
   "execution_count": 34,
   "id": "490b1e2d",
   "metadata": {
    "collapsed": true
   },
   "outputs": [
    {
     "data": {
      "image/png": "[encoded data removed]",
      "text/plain": [
       "<Figure size 432x288 with 2 Axes>"
      ]
     },
     "metadata": {
      "needs_background": "light"
     },
     "output_type": "display_data"
    }
   ],
   "source": [
    "# calling the visual_cm function\n",
    "visual_cm(true_y = y_test,\n",
    "          pred_y = RFC_pred,\n",
    "          labels = ['Not Alive - 0', 'Alive - 1'])"
   ]
  },
  {
   "cell_type": "markdown",
   "id": "05d2e3a5",
   "metadata": {
    "deletable": false,
    "editable": false
   },
   "source": [
    "The previous codes produced a matrix from which the metrics below could be calculated, taking into account a model that used scaled data and the set of variables # 4 \"logit_sig_4\":<br>\n",
    "-Accuracy: 0.88<br>\n",
    "-Precision: 0.96<br>\n",
    "-Sensitivity: 0.87<br>\n",
    "-Specificity: 0.90<br>\n",
    "<br>\n",
    "From this it can be seen that the model was good at correctly predicting the number of times that a character would be alive over the total number of times that the model predicted that a character would be alive. That is why there's a small amount of cases where the model incorrectly predicted a character would be alive when it actually wasn't. In this same context, the model had a small quantity of cases where it predicted a character wouldn't be alive when it actually was alive. Also, the training and testing scores have a gap that is below 0.05. \n",
    "<br><br>\n",
    "For these reasons, and because the model has an AUC of 0.88, it is selected as a good candidate to have its hyperparameters tunned in the later sections.\n",
    "<br>"
   ]
  },
  {
   "cell_type": "markdown",
   "id": "0084473d",
   "metadata": {},
   "source": [
    "<em><strong>Updating model performance</strong></em>"
   ]
  },
  {
   "cell_type": "code",
   "execution_count": 35,
   "id": "00254d30",
   "metadata": {},
   "outputs": [],
   "source": [
    "# appending to model_performance\n",
    "model_performance = model_performance.append(\n",
    "                          {'Model Name'         : 'RFC (set_4_scaled)',\n",
    "                           'Training Accuracy'  : RFC_train_score,\n",
    "                           'Testing Accuracy'   : RFC_test_score,\n",
    "                           'AUC Score'          : RFC_auc_score,\n",
    "                           'Confusion Matrix'   : (RFC_tn,\n",
    "                                                   RFC_fp,\n",
    "                                                   RFC_fn,\n",
    "                                                   RFC_tp)},\n",
    "                          ignore_index = True)\n",
    "\n",
    "# checking the results, uncomment when required\n",
    "#model_performance"
   ]
  },
  {
   "cell_type": "markdown",
   "id": "ddf518b3",
   "metadata": {
    "deletable": false,
    "editable": false
   },
   "source": [
    "<strong>Feature Importance Plotting</strong><br>\n",
    "The following plot was developed when the Random Forest Regression was run on the full model, without scaling the data to be able to determine the features that had the biggest importance and generate other preferred dictionaries to be tested among every model.\n",
    "<br>\n",
    "From the gap it was possible to determine that the most important features were time_frame, popularity, book4,  relatives_dead_by_culture and all_books.\n",
    "<br>"
   ]
  },
  {
   "cell_type": "code",
   "execution_count": 36,
   "id": "7a8d00f9",
   "metadata": {
    "collapsed": true
   },
   "outputs": [
    {
     "data": {
      "image/png": "[encoded data removed]",
      "text/plain": [
       "<Figure size 864x648 with 1 Axes>"
      ]
     },
     "metadata": {
      "needs_background": "light"
     },
     "output_type": "display_data"
    }
   ],
   "source": [
    "# plotting feature importance\n",
    "plot_feature_importances(RFC_fit,\n",
    "                         train = x_train,\n",
    "                         export = True)"
   ]
  },
  {
   "cell_type": "markdown",
   "id": "eaf11677",
   "metadata": {
    "deletable": false,
    "editable": false
   },
   "source": [
    "<strong>Gradient Boosting Machine</strong><br>\n",
    "<em><strong>Model Instantiating, model fitting, model predicting and saving of scoring data to be used for evaluation and comparison among models.</strong></em>"
   ]
  },
  {
   "cell_type": "code",
   "execution_count": 37,
   "id": "4cc68677",
   "metadata": {},
   "outputs": [],
   "source": [
    "#####################################################################\n",
    "# this section is included to gurantee that the final table of the code includes\n",
    "# the GBM with the \"logit_full\" set of variables given that the selected DTC and RFC\n",
    "# models run on the \"logit_sig_4\" variables set.\n",
    "\n",
    "GOT_data   =  GOT.loc[ : , candidate_dict['logit_full']]\n",
    "GOT_target =  GOT.loc[ : , 'isAlive']\n",
    "# INSTANTIATING StandardScaler()\n",
    "scaler = StandardScaler()\n",
    "# FITTING the data\n",
    "scaler.fit(GOT_data)\n",
    "# TRANSFORMING the data\n",
    "x_scaled     = scaler.transform(GOT_data)\n",
    "# converting to a DataFrame\n",
    "x_scaled_df  = pd.DataFrame(x_scaled) \n",
    "# train/test split with scaled data or not scaled data\n",
    "x_train, x_test, y_train, y_test = train_test_split(\n",
    "            #GOT_data,    # used when needed to split with not scaled data\n",
    "            x_scaled_df,  # #used when needed to split with scaled data\n",
    "            GOT_target,\n",
    "            test_size    = 0.10,\n",
    "            random_state = 219,\n",
    "            stratify     = GOT_target)\n",
    "#####################################################################\n",
    "\n",
    "# INSTANTIATING a GradientBoostingClassifier regression model\n",
    "GBM = GradientBoostingClassifier(max_depth = 8, random_state = 219)\n",
    "\n",
    "# FITTING the training data\n",
    "GBM_fit = GBM.fit(x_train, y_train)\n",
    "\n",
    "# PREDICTING based on the testing set\n",
    "GBM_pred = GBM_fit.predict(x_test)\n",
    "\n",
    "# saving scoring data for future use\n",
    "GBM_train_score = GBM_fit.score(x_train, y_train).round(4) # accuracy\n",
    "GBM_test_score  = GBM_fit.score(x_test, y_test).round(4) # accuracy\n",
    "# saving AUC score for future use\n",
    "GBM_auc_score = roc_auc_score(y_true  = y_test,\n",
    "                              y_score = GBM_pred).round(decimals = 4)"
   ]
  },
  {
   "cell_type": "markdown",
   "id": "23970a41",
   "metadata": {
    "deletable": false,
    "editable": false
   },
   "source": [
    "<em><strong>Confusion matrix:</strong></em> unpacking and visualizing the confusion matrix following the previously defined format."
   ]
  },
  {
   "cell_type": "code",
   "execution_count": 38,
   "id": "9aeaee16",
   "metadata": {},
   "outputs": [],
   "source": [
    "# unpacking the confusion matrix\n",
    "GBM_tn, \\\n",
    "GBM_fp, \\\n",
    "GBM_fn, \\\n",
    "GBM_tp = confusion_matrix(y_true = y_test, y_pred = GBM_pred).ravel()"
   ]
  },
  {
   "cell_type": "code",
   "execution_count": 39,
   "id": "b4f63ec9",
   "metadata": {
    "collapsed": true
   },
   "outputs": [
    {
     "data": {
      "image/png": "[encoded data removed]",
      "text/plain": [
       "<Figure size 432x288 with 2 Axes>"
      ]
     },
     "metadata": {
      "needs_background": "light"
     },
     "output_type": "display_data"
    }
   ],
   "source": [
    "# calling the visual_cm function\n",
    "visual_cm(true_y = y_test,\n",
    "          pred_y = GBM_pred,\n",
    "          labels = ['Not Alive - 0', 'Alive - 1'])"
   ]
  },
  {
   "cell_type": "markdown",
   "id": "efc49d06",
   "metadata": {
    "deletable": false,
    "editable": false
   },
   "source": [
    "The previous codes produced a matrix from which the metrics below could be calculated, taking into account a model that used scaled data and the full set of variables \"logit_full\":<br>\n",
    "-Accuracy: 0.91<br>\n",
    "-Precision: 0.93<br>\n",
    "-Sensitivity: 0.96<br>\n",
    "-Specificity: 0.78<br>\n",
    "<br>\n",
    "From this it can be seen that the model was good at correctly predicting the number of times that a character would be alive over the total number of times that the model predicted that a character would be alive. That is why there's a small amount of cases where the model incorrectly predicted a character would be alive when it actually wasn't. In this same context, the model had a small quantity of cases where it predicted a character wouldn't be alive when it actually was alive. However, the training and testing scores have a gap that is over 0.05.<br>\n",
    "Also, on this model we had a decrease on the number of times the model predicted that a character would NOT be alive over the number of times the character is actually not alive when compared to other models.\n",
    "<br><br>\n",
    "For these reasons, and because the model has an AUC of 0.87, it is selected as a good candidate to have its hyperparameters tunned in the later sections expecting to reduce the training and testing gap.\n",
    "<br>"
   ]
  },
  {
   "cell_type": "markdown",
   "id": "ea7883ac",
   "metadata": {
    "deletable": false,
    "editable": false
   },
   "source": [
    "<em><strong>Updating model performance</strong></em>"
   ]
  },
  {
   "cell_type": "code",
   "execution_count": 40,
   "id": "b8d15a08",
   "metadata": {},
   "outputs": [],
   "source": [
    "# appending to model_performance\n",
    "model_performance = model_performance.append(\n",
    "                          {'Model Name'         : 'GBM (set_full_scaled)',\n",
    "                           'Training Accuracy'  : GBM_train_score,\n",
    "                           'Testing Accuracy'   : GBM_test_score,\n",
    "                           'AUC Score'          : GBM_auc_score,\n",
    "                           'Confusion Matrix'   : (GBM_tn,\n",
    "                                                   GBM_fp,\n",
    "                                                   GBM_fn,\n",
    "                                                   GBM_tp)},\n",
    "                          ignore_index = True)\n",
    "\n",
    "# checking the results, uncomment when required\n",
    "#model_performance"
   ]
  },
  {
   "cell_type": "code",
   "execution_count": null,
   "id": "9ae03643",
   "metadata": {
    "deletable": false,
    "editable": false,
    "run_control": {
     "frozen": true
    }
   },
   "outputs": [],
   "source": [
    "# # sending model results to Excel\n",
    "# # used to analyze on Excel and Jupyter the outputs at the same time.\n",
    "# model_performance.to_excel('./classification_model_performance.xlsx',\n",
    "#                            index = False)"
   ]
  },
  {
   "cell_type": "markdown",
   "id": "42859102",
   "metadata": {
    "deletable": false,
    "editable": false
   },
   "source": [
    "<strong>Hyperparameter Tuning</strong><br>\n",
    "<br>\n",
    "After determining that the Decision Tree Classifier, the Random Forest Classifier and the Gradient Boosting Machine provided the best outcomes/scores for their respective tested significant features, it was decided to tune the hyperparameters of these models.\n",
    "<br>\n",
    "In the following section, each of these models is tunned by using the randomized search cross validation to determine the optimal parameters and its respective training AUC. Then these parameters are used to run the classifications again on the corresponding significant feature group for each model to compare the tuned scores with the previous obtained ones.\n",
    "<br>"
   ]
  },
  {
   "cell_type": "markdown",
   "id": "03195ad1",
   "metadata": {
    "deletable": false,
    "editable": false
   },
   "source": [
    "<strong>Decision Tree Hyperparameter Tuning</strong><br>\n",
    "The following cell contains the hyperparameter tuning for the Decision Classifier.\n",
    "<br><br>\n",
    "The parameters that were chosen to be optimized were criterion, splitter, class weight, max depth and minimum samples leaf.\n",
    "<br><br>\n",
    "At the beginning the ranges for these parameters were defined to be to small, so no benefit was identified from the tuning. However, after getting more familiar with the documentation of this classifier, the following ranges were used. It is important to mention that the default values for each parameter are always included inside the hyperparameter space.\n",
    "<br>"
   ]
  },
  {
   "cell_type": "code",
   "execution_count": 14,
   "id": "5be01867",
   "metadata": {
    "deletable": false,
    "editable": false,
    "run_control": {
     "frozen": true
    }
   },
   "outputs": [
    {
     "name": "stdout",
     "output_type": "stream",
     "text": [
      "Tuned Parameters  : {'splitter': 'best', 'min_samples_leaf': 3, 'max_depth': 5, 'criterion': 'entropy', 'class_weight': 'balanced'}\n",
      "Tuned Training AUC: 0.7762\n"
     ]
    }
   ],
   "source": [
    "# declaring a hyperparameter space\n",
    "criterion_range = ['gini', 'entropy'] \n",
    "splitter_range  = ['best', 'random']\n",
    "class_range     = ['balanced', None]\n",
    "depth_range     = np.arange(1, 8, 1)\n",
    "leaf_range      = np.arange(1, 150, 1)\n",
    "\n",
    "# creating a hyperparameter grid\n",
    "param_grid = {'criterion'        : criterion_range,\n",
    "              'splitter'         : splitter_range,\n",
    "              'class_weight'     : class_range,\n",
    "              'max_depth'        : depth_range,\n",
    "              'min_samples_leaf' : leaf_range}\n",
    "\n",
    "# INSTANTIATING the model object without hyperparameters\n",
    "tuned_tree = DecisionTreeClassifier(random_state = 219)\n",
    "\n",
    "# RandomizedSearchCV object\n",
    "tuned_tree_cv = RandomizedSearchCV(estimator             = tuned_tree,\n",
    "                                   param_distributions   = param_grid,\n",
    "                                   cv                    = 3,\n",
    "                                   n_iter                = 1000,\n",
    "                                   random_state          = 219,\n",
    "                                   scoring = make_scorer(roc_auc_score,\n",
    "                                             needs_threshold = False))\n",
    "\n",
    "# FITTING to the FULL DATASET (due to cross-validation)\n",
    "tuned_tree_cv.fit(x_scaled_df, GOT_target)\n",
    "\n",
    "# PREDICT step is not needed\n",
    "\n",
    "# printing the optimal parameters and best score\n",
    "print(\"Tuned Parameters  :\", tuned_tree_cv.best_params_)\n",
    "print(\"Tuned Training AUC:\", tuned_tree_cv.best_score_.round(4))"
   ]
  },
  {
   "cell_type": "code",
   "execution_count": 15,
   "id": "fa74be10",
   "metadata": {
    "deletable": false,
    "editable": false,
    "run_control": {
     "frozen": true
    }
   },
   "outputs": [
    {
     "data": {
      "text/plain": [
       "DecisionTreeClassifier(class_weight='balanced', criterion='entropy',\n",
       "                       max_depth=5, min_samples_leaf=3, random_state=219)"
      ]
     },
     "execution_count": 15,
     "metadata": {},
     "output_type": "execute_result"
    }
   ],
   "source": [
    "# best estimators based on RandomizedSearchCV\n",
    "tuned_tree_cv.best_estimator_"
   ]
  },
  {
   "cell_type": "markdown",
   "id": "00e496b7",
   "metadata": {
    "deletable": false,
    "editable": false
   },
   "source": [
    "<strong>Random Forest Hyperparameter Tuning</strong><br>\n",
    "The following cell contains the hyperparameter tuning for the Random Forest Classifier.\n",
    "<br><br>\n",
    "The parameters that were chosen to be optimized were the number of estimators, max depth, class weight, minimum samples leaf, criterion and bootstrap.\n",
    "<br><br>\n",
    "At the beginning the warm start parameter was intended to be optimized as well, but a warning was obtained because the class weight was set to \"balanced\" or \"unbalanced\" and this could produce inconsistent result if combined with the warm start. So this last parameter was not included. It is important to mention that the default values for each parameter are always included inside the hyperparameter space."
   ]
  },
  {
   "cell_type": "code",
   "execution_count": 20,
   "id": "08fe26b3",
   "metadata": {
    "deletable": false,
    "editable": false,
    "run_control": {
     "frozen": true
    }
   },
   "outputs": [
    {
     "name": "stdout",
     "output_type": "stream",
     "text": [
      "Tuned Parameters  : {'n_estimators': 100, 'min_samples_leaf': 1, 'max_depth': 5, 'criterion': 'entropy', 'class_weight': 'balanced', 'bootstrap': True}\n",
      "Tuned Training AUC: 0.7762\n"
     ]
    }
   ],
   "source": [
    "# declaring a hyperparameter space\n",
    "estimator_range  = np.arange(100, 1000, 250)\n",
    "depth_range      = np.arange(1, 8, 1)\n",
    "class_range      = ['balanced', 'balanced_subsample']\n",
    "leaf_range       = np.arange(1, 35, 5)\n",
    "criterion_range  = ['gini', 'entropy']\n",
    "bootstrap_range  = [True, False]\n",
    "\n",
    "# creating a hyperparameter grid\n",
    "param_grid = {'n_estimators'     : estimator_range,\n",
    "              'max_depth'        : depth_range,\n",
    "              'class_weight'     : class_range,\n",
    "              'min_samples_leaf' : leaf_range,\n",
    "              'criterion'        : criterion_range,\n",
    "              'bootstrap'        : bootstrap_range}\n",
    "\n",
    "# INSTANTIATING the model object without hyperparameters\n",
    "forest_grid = RandomForestClassifier(random_state = 219)\n",
    "\n",
    "# GridSearchCV object\n",
    "forest_cv = RandomizedSearchCV(estimator           = forest_grid,\n",
    "                               param_distributions = param_grid,\n",
    "                               cv         = 3,\n",
    "                               n_iter     = 1000,\n",
    "                               scoring    = make_scorer(roc_auc_score,\n",
    "                                            needs_threshold = False))\n",
    "\n",
    "# FITTING to the FULL DATASET (due to cross-validation)\n",
    "forest_cv.fit(x_scaled_df, GOT_target)\n",
    "\n",
    "# PREDICT step is not needed\n",
    "\n",
    "# printing the optimal parameters and best score\n",
    "print(\"Tuned Parameters  :\", forest_cv.best_params_)\n",
    "print(\"Tuned Training AUC:\", forest_cv.best_score_.round(4))"
   ]
  },
  {
   "cell_type": "code",
   "execution_count": 30,
   "id": "b4047e6b",
   "metadata": {
    "deletable": false,
    "editable": false,
    "run_control": {
     "frozen": true
    }
   },
   "outputs": [
    {
     "data": {
      "text/plain": [
       "RandomForestClassifier(class_weight='balanced', criterion='entropy',\n",
       "                       max_depth=5, random_state=219)"
      ]
     },
     "execution_count": 30,
     "metadata": {},
     "output_type": "execute_result"
    }
   ],
   "source": [
    "# best estimators based on RandomizedSearchCV\n",
    "forest_cv.best_estimator_"
   ]
  },
  {
   "cell_type": "markdown",
   "id": "ce98d4cc",
   "metadata": {
    "deletable": false,
    "editable": false
   },
   "source": [
    "<strong>Gradient Boosting Machine Hyperparameter Tuning</strong><br>\n",
    "The following cell contains the hyperparameter tuning for the Gradient Boosting Machine.\n",
    "<br><br>\n",
    "The parameters that were chosen to be optimized were learning rate, number of estimators, max depth and minimum samples leaf and warm start.\n",
    "<br><br>\n",
    "At the beginning the ranges for these parameters were defined to be to small, so no benefit was identified from the tuning. However, after getting more familiar with the documentation of this classifier, the following ranges were used. It is important to mention that the default values for each parameter are always included inside the hyperparameter space.\n",
    "<br>"
   ]
  },
  {
   "cell_type": "code",
   "execution_count": 30,
   "id": "2865c65e",
   "metadata": {
    "deletable": false,
    "editable": false,
    "run_control": {
     "frozen": true
    }
   },
   "outputs": [
    {
     "name": "stdout",
     "output_type": "stream",
     "text": [
      "Tuned Parameters  : {'warm_start': False, 'n_estimators': 300, 'min_samples_leaf': 31, 'max_depth': 2, 'learning_rate': 0.6}\n",
      "Tuned Training AUC: 0.7636\n"
     ]
    }
   ],
   "source": [
    "# declaring a hyperparameter space\n",
    "learn_range        = np.arange(0.1, 2.2, 0.5)\n",
    "estimator_range    = np.arange(100, 1000, 200)\n",
    "depth_range        = np.arange(1, 8, 1)\n",
    "leaf_range         = np.arange(1, 50, 10)\n",
    "warm_start_range   = [True, False]\n",
    "\n",
    "# creating a hyperparameter grid\n",
    "param_grid = {'learning_rate'    : learn_range,\n",
    "              'n_estimators'     : estimator_range,\n",
    "              'max_depth'        : depth_range,\n",
    "              'min_samples_leaf' : leaf_range,\n",
    "              'warm_start'       : warm_start_range}\n",
    "\n",
    "# INSTANTIATING the model object without hyperparameters\n",
    "gbm_grid = GradientBoostingClassifier(random_state = 219)\n",
    "\n",
    "# GridSearchCV object\n",
    "gbm_cv = RandomizedSearchCV(estimator           = gbm_grid,\n",
    "                            param_distributions = param_grid,\n",
    "                            cv                  = 3,\n",
    "                            n_iter              = 1000,\n",
    "                            scoring             = make_scorer(roc_auc_score,\n",
    "                                                       needs_threshold = False))\n",
    "\n",
    "# FITTING to the FULL DATASET (due to cross-validation)\n",
    "gbm_cv.fit(x_scaled_df, GOT_target)\n",
    "\n",
    "# PREDICT step is not needed\n",
    "\n",
    "# printing the optimal parameters and best score\n",
    "print(\"Tuned Parameters  :\", gbm_cv.best_params_)\n",
    "print(\"Tuned Training AUC:\", gbm_cv.best_score_.round(4))"
   ]
  },
  {
   "cell_type": "code",
   "execution_count": 31,
   "id": "ec53f032",
   "metadata": {
    "deletable": false,
    "editable": false,
    "run_control": {
     "frozen": true
    }
   },
   "outputs": [
    {
     "data": {
      "text/plain": [
       "GradientBoostingClassifier(learning_rate=0.6, max_depth=2, min_samples_leaf=31,\n",
       "                           n_estimators=300, random_state=219)"
      ]
     },
     "execution_count": 31,
     "metadata": {},
     "output_type": "execute_result"
    }
   ],
   "source": [
    "# best estimators based on RandomizedSearchCV\n",
    "gbm_cv.best_estimator_"
   ]
  },
  {
   "cell_type": "markdown",
   "id": "17d27974",
   "metadata": {
    "deletable": false,
    "editable": false
   },
   "source": [
    "<strong>Hyperparameter Tuning continued: </strong>Run selected models after tuning."
   ]
  },
  {
   "cell_type": "markdown",
   "id": "66d965c5",
   "metadata": {
    "deletable": false,
    "editable": false
   },
   "source": [
    "<strong>Tuned Decision Tree</strong><br>\n",
    "The model is run one more time using the best parameters obtained by the tunning process, scaled data and the set of variables # 4 \"logit_sig_4\":\n",
    "<br>"
   ]
  },
  {
   "cell_type": "code",
   "execution_count": 41,
   "id": "7a7f8ad2",
   "metadata": {},
   "outputs": [],
   "source": [
    "#####################################################################\n",
    "# this section is included to gurantee that the final table of the code includes\n",
    "# the tuned DTC with the \"logit_sig_4\" set of variables given that the selected GMB\n",
    "# model runs on the \"logit_full\" variables set.\n",
    "\n",
    "GOT_data   =  GOT.loc[ : , candidate_dict['logit_sig_4']]\n",
    "GOT_target =  GOT.loc[ : , 'isAlive']\n",
    "# INSTANTIATING StandardScaler()\n",
    "scaler = StandardScaler()\n",
    "# FITTING the data\n",
    "scaler.fit(GOT_data)\n",
    "# TRANSFORMING the data\n",
    "x_scaled     = scaler.transform(GOT_data)\n",
    "# converting to a DataFrame\n",
    "x_scaled_df  = pd.DataFrame(x_scaled) \n",
    "# train/test split with scaled data or not scaled data\n",
    "x_train, x_test, y_train, y_test = train_test_split(\n",
    "            #GOT_data,    # used when needed to split with not scaled data\n",
    "            x_scaled_df,  # #used when needed to split with scaled data\n",
    "            GOT_target,\n",
    "            test_size    = 0.10,\n",
    "            random_state = 219,\n",
    "            stratify     = GOT_target)\n",
    "#####################################################################\n",
    "\n",
    "# INSTANTIATING a DecisionTreeClassifier regression model\n",
    "DTC_tuned = DecisionTreeClassifier(class_weight = 'balanced', criterion = 'entropy',\n",
    "                                   max_depth = 5, min_samples_leaf = 3,\n",
    "                                   splitter = 'best', random_state = 219)\n",
    "\n",
    "# FITTING the training data\n",
    "DTC_tuned_fit = DTC_tuned.fit(x_scaled_df, GOT_target)\n",
    "\n",
    "# PREDICTING based on the testing set\n",
    "DTC_tuned_pred = DTC_tuned_fit.predict(x_test)\n",
    "\n",
    "# saving scoring data for future use\n",
    "DTC_tuned_train_score = DTC_tuned_fit.score(x_train, y_train).round(4) # accuracy\n",
    "DTC_tuned_test_score  = DTC_tuned_fit.score(x_test, y_test).round(4) # accuracy\n",
    "# saving AUC score for future use\n",
    "DTC_tuned_auc_score = roc_auc_score(y_true  = y_test,\n",
    "                              y_score = DTC_tuned_pred).round(decimals = 4)"
   ]
  },
  {
   "cell_type": "code",
   "execution_count": 42,
   "id": "178d5441",
   "metadata": {},
   "outputs": [],
   "source": [
    "# unpacking the confusion matrix\n",
    "DTC_tuned_tn, \\\n",
    "DTC_tuned_fp, \\\n",
    "DTC_tuned_fn, \\\n",
    "DTC_tuned_tp = confusion_matrix(y_true = y_test, y_pred = DTC_tuned_pred).ravel()"
   ]
  },
  {
   "cell_type": "code",
   "execution_count": 43,
   "id": "42412558",
   "metadata": {},
   "outputs": [],
   "source": [
    "# appending to model_performance\n",
    "model_performance = model_performance.append(\n",
    "                          {'Model Name'         : 'DTC_tuned (set_4_scaled)',\n",
    "                           'Training Accuracy'  : DTC_tuned_train_score,\n",
    "                           'Testing Accuracy'   : DTC_tuned_test_score,\n",
    "                           'AUC Score'          : DTC_tuned_auc_score,\n",
    "                           'Confusion Matrix'   : (DTC_tuned_tn,\n",
    "                                                   DTC_tuned_fp,\n",
    "                                                   DTC_tuned_fn,\n",
    "                                                   DTC_tuned_tp)},\n",
    "                          ignore_index = True)\n",
    "\n",
    "# checking the results, uncomment when required\n",
    "#model_performance"
   ]
  },
  {
   "cell_type": "markdown",
   "id": "bd0fecf9",
   "metadata": {
    "deletable": false,
    "editable": false
   },
   "source": [
    "<strong>Tuned Random Forest</strong><br>\n",
    "The model is run one more time using the best parameters obtained by the tunning process, scaled data and the set of variables # 4 \"logit_sig_4\":\n",
    "<br>"
   ]
  },
  {
   "cell_type": "code",
   "execution_count": 44,
   "id": "ff705522",
   "metadata": {},
   "outputs": [],
   "source": [
    "#####################################################################\n",
    "# this section is included to gurantee that the final table of the code includes\n",
    "# the tuned RFC with the \"logit_sig_4\" set of variables given that the selected GMB\n",
    "# model runs on the \"logit_full\" variables set.\n",
    "\n",
    "GOT_data   =  GOT.loc[ : , candidate_dict['logit_sig_4']]\n",
    "GOT_target =  GOT.loc[ : , 'isAlive']\n",
    "# INSTANTIATING StandardScaler()\n",
    "scaler = StandardScaler()\n",
    "# FITTING the data\n",
    "scaler.fit(GOT_data)\n",
    "# TRANSFORMING the data\n",
    "x_scaled     = scaler.transform(GOT_data)\n",
    "# converting to a DataFrame\n",
    "x_scaled_df  = pd.DataFrame(x_scaled) \n",
    "# train/test split with scaled data or not scaled data\n",
    "x_train, x_test, y_train, y_test = train_test_split(\n",
    "            #GOT_data,    # used when needed to split with not scaled data\n",
    "            x_scaled_df,  # #used when needed to split with scaled data\n",
    "            GOT_target,\n",
    "            test_size    = 0.10,\n",
    "            random_state = 219,\n",
    "            stratify     = GOT_target)\n",
    "#####################################################################\n",
    "\n",
    "# building a model based on hyperparameter tuning results\n",
    "# INSTANTIATING with best_estimator\n",
    "RFC_tuned = RandomForestClassifier(n_estimators = 100, min_samples_leaf = 1, max_depth = 5,\n",
    "                                   criterion = 'entropy', class_weight = 'balanced', bootstrap = True,\n",
    "                                   random_state = 219)\n",
    "\n",
    "# FITTING to the FULL DATASET (due to cross-validation)\n",
    "RFC_tuned_fit = RFC_tuned.fit(x_scaled_df, GOT_target)\n",
    "\n",
    "# PREDICTING based on the testing set\n",
    "RFC_tuned_pred = RFC_tuned_fit.predict(x_test)\n",
    "\n",
    "# saving scoring data for future use\n",
    "RFC_tuned_train_score = RFC_tuned.score(x_train, y_train).round(4) # accuracy\n",
    "RFC_tuned_test_score  = RFC_tuned.score(x_test, y_test).round(4)   # accuracy\n",
    "# saving the AUC score\n",
    "RFC_tuned_auc = roc_auc_score(y_true  = y_test,\n",
    "                              y_score = RFC_tuned_pred).round(4) # auc"
   ]
  },
  {
   "cell_type": "code",
   "execution_count": 45,
   "id": "38006356",
   "metadata": {},
   "outputs": [],
   "source": [
    "# unpacking the confusion matrix\n",
    "RFC_tuned_tn, \\\n",
    "RFC_tuned_fp, \\\n",
    "RFC_tuned_fn, \\\n",
    "RFC_tuned_tp = confusion_matrix(y_true = y_test, y_pred = RFC_tuned_pred).ravel()"
   ]
  },
  {
   "cell_type": "code",
   "execution_count": 46,
   "id": "f6fa4d2e",
   "metadata": {},
   "outputs": [],
   "source": [
    "# appending to model_performance\n",
    "model_performance = model_performance.append(\n",
    "                          {'Model Name'         : 'RFC_tuned (set_4_scaled)',\n",
    "                           'Training Accuracy'  : RFC_tuned_train_score,\n",
    "                           'Testing Accuracy'   : RFC_tuned_test_score,\n",
    "                           'AUC Score'          : RFC_tuned_auc,\n",
    "                           'Confusion Matrix'   : (RFC_tuned_tn,\n",
    "                                                   RFC_tuned_fp,\n",
    "                                                   RFC_tuned_fn,\n",
    "                                                   RFC_tuned_tp)},\n",
    "                          ignore_index = True)\n",
    "\n",
    "# checking the results, uncomment when required\n",
    "#model_performance"
   ]
  },
  {
   "cell_type": "markdown",
   "id": "89c888f2",
   "metadata": {
    "deletable": false,
    "editable": false
   },
   "source": [
    "<strong>Tuned Gradient Boosting Machine</strong><br>\n",
    "The model is run one more time using the best parameters obtained by the tunning process, scaled data and the full set of variables \"logit_full\":\n",
    "<br>"
   ]
  },
  {
   "cell_type": "code",
   "execution_count": 47,
   "id": "55cbb9fc",
   "metadata": {},
   "outputs": [],
   "source": [
    "#####################################################################\n",
    "# this section is included to gurantee that the final table of the code includes\n",
    "# the tuned GBM with the \"logit_full\" set of variables given that the selected DTC and RFC\n",
    "# models run on the \"logit_sig_4\" variables set.\n",
    "\n",
    "GOT_data   =  GOT.loc[ : , candidate_dict['logit_full']]\n",
    "GOT_target =  GOT.loc[ : , 'isAlive']\n",
    "# INSTANTIATING StandardScaler()\n",
    "scaler = StandardScaler()\n",
    "# FITTING the data\n",
    "scaler.fit(GOT_data)\n",
    "# TRANSFORMING the data\n",
    "x_scaled     = scaler.transform(GOT_data)\n",
    "# converting to a DataFrame\n",
    "x_scaled_df  = pd.DataFrame(x_scaled) \n",
    "# train/test split with scaled data or not scaled data\n",
    "x_train, x_test, y_train, y_test = train_test_split(\n",
    "            #GOT_data,    # used when needed to split with not scaled data\n",
    "            x_scaled_df,  # #used when needed to split with scaled data\n",
    "            GOT_target,\n",
    "            test_size    = 0.10,\n",
    "            random_state = 219,\n",
    "            stratify     = GOT_target)\n",
    "#####################################################################\n",
    "\n",
    "\n",
    "# INSTANTIATING with best_estimator\n",
    "gbm_tuned = GradientBoostingClassifier(n_estimators = 300, learning_rate = 0.6,\n",
    "                                       max_depth = 2, min_samples_leaf = 31,\n",
    "                                       random_state = 219, warm_start = False)\n",
    "\n",
    "# FITTING to the FULL DATASET (due to cross-validation)\n",
    "gbm_tuned_fit = gbm_tuned.fit(x_scaled_df, GOT_target)\n",
    "\n",
    "# PREDICTING based on the testing set\n",
    "gbm_tuned_pred = gbm_tuned_fit.predict(x_test)\n",
    "\n",
    "# saving scoring data for future use\n",
    "gbm_tuned_train_score = gbm_tuned_fit.score(x_train, y_train).round(4) # accuracy\n",
    "gbm_tuned_test_score  = gbm_tuned_fit.score(x_test, y_test).round(4) # accuracy\n",
    "# saving AUC score for future use\n",
    "gbm_tuned_auc_score = roc_auc_score(y_true  = y_test,\n",
    "                                    y_score = gbm_tuned_pred).round(decimals = 4)"
   ]
  },
  {
   "cell_type": "code",
   "execution_count": 48,
   "id": "5f08fc82",
   "metadata": {},
   "outputs": [],
   "source": [
    "# unpacking the confusion matrix\n",
    "gbm_tuned_tn, \\\n",
    "gbm_tuned_fp, \\\n",
    "gbm_tuned_fn, \\\n",
    "gbm_tuned_tp = confusion_matrix(y_true = y_test, y_pred = gbm_tuned_pred).ravel()"
   ]
  },
  {
   "cell_type": "code",
   "execution_count": 49,
   "id": "9e56e720",
   "metadata": {},
   "outputs": [],
   "source": [
    "# appending to model_performance\n",
    "model_performance = model_performance.append(\n",
    "                          {'Model Name'         : 'GBM_tuned (set_full_scaled)',\n",
    "                           'Training Accuracy'  : gbm_tuned_train_score,\n",
    "                           'Testing Accuracy'   : gbm_tuned_test_score,\n",
    "                           'AUC Score'          : gbm_tuned_auc_score,\n",
    "                           'Confusion Matrix'   : (gbm_tuned_tn,\n",
    "                                                   gbm_tuned_fp,\n",
    "                                                   gbm_tuned_fn,\n",
    "                                                   gbm_tuned_tp)},\n",
    "                          ignore_index = True)\n",
    "\n",
    "# checking the results, uncomment when required\n",
    "#model_performance"
   ]
  },
  {
   "cell_type": "markdown",
   "id": "aa388c14",
   "metadata": {
    "deletable": false,
    "editable": false
   },
   "source": [
    "Viewing each model's performance metrics."
   ]
  },
  {
   "cell_type": "code",
   "execution_count": 50,
   "id": "4f5a16a3",
   "metadata": {
    "collapsed": true
   },
   "outputs": [
    {
     "data": {
      "text/html": [
       "<div>\n",
       "<style scoped>\n",
       "    .dataframe tbody tr th:only-of-type {\n",
       "        vertical-align: middle;\n",
       "    }\n",
       "\n",
       "    .dataframe tbody tr th {\n",
       "        vertical-align: top;\n",
       "    }\n",
       "\n",
       "    .dataframe thead th {\n",
       "        text-align: right;\n",
       "    }\n",
       "</style>\n",
       "<table border=\"1\" class=\"dataframe\">\n",
       "  <thead>\n",
       "    <tr style=\"text-align: right;\">\n",
       "      <th></th>\n",
       "      <th>Model Name</th>\n",
       "      <th>AUC Score</th>\n",
       "      <th>Training Accuracy</th>\n",
       "      <th>Testing Accuracy</th>\n",
       "      <th>Confusion Matrix</th>\n",
       "    </tr>\n",
       "  </thead>\n",
       "  <tbody>\n",
       "    <tr>\n",
       "      <th>7</th>\n",
       "      <td>GBM_tuned (set_full_scaled)</td>\n",
       "      <td>0.8962</td>\n",
       "      <td>0.9132</td>\n",
       "      <td>0.9333</td>\n",
       "      <td>(41, 9, 4, 141)</td>\n",
       "    </tr>\n",
       "    <tr>\n",
       "      <th>3</th>\n",
       "      <td>RFC (set_4_scaled)</td>\n",
       "      <td>0.8845</td>\n",
       "      <td>0.8350</td>\n",
       "      <td>0.8769</td>\n",
       "      <td>(45, 5, 19, 126)</td>\n",
       "    </tr>\n",
       "    <tr>\n",
       "      <th>6</th>\n",
       "      <td>RFC_tuned (set_4_scaled)</td>\n",
       "      <td>0.8745</td>\n",
       "      <td>0.7915</td>\n",
       "      <td>0.8718</td>\n",
       "      <td>(44, 6, 19, 126)</td>\n",
       "    </tr>\n",
       "    <tr>\n",
       "      <th>4</th>\n",
       "      <td>GBM (set_full_scaled)</td>\n",
       "      <td>0.8693</td>\n",
       "      <td>0.9754</td>\n",
       "      <td>0.9128</td>\n",
       "      <td>(39, 11, 6, 139)</td>\n",
       "    </tr>\n",
       "    <tr>\n",
       "      <th>5</th>\n",
       "      <td>DTC_tuned (set_4_scaled)</td>\n",
       "      <td>0.8683</td>\n",
       "      <td>0.8018</td>\n",
       "      <td>0.8821</td>\n",
       "      <td>(42, 8, 15, 130)</td>\n",
       "    </tr>\n",
       "    <tr>\n",
       "      <th>2</th>\n",
       "      <td>DTC (set_4)</td>\n",
       "      <td>0.8445</td>\n",
       "      <td>0.8355</td>\n",
       "      <td>0.8564</td>\n",
       "      <td>(41, 9, 19, 126)</td>\n",
       "    </tr>\n",
       "    <tr>\n",
       "      <th>1</th>\n",
       "      <td>KNN (set_4_not scaled)</td>\n",
       "      <td>0.7859</td>\n",
       "      <td>0.8121</td>\n",
       "      <td>0.8667</td>\n",
       "      <td>(31, 19, 7, 138)</td>\n",
       "    </tr>\n",
       "    <tr>\n",
       "      <th>0</th>\n",
       "      <td>Logistic (full 4)</td>\n",
       "      <td>0.6366</td>\n",
       "      <td>0.8001</td>\n",
       "      <td>0.8103</td>\n",
       "      <td>(14, 36, 1, 144)</td>\n",
       "    </tr>\n",
       "  </tbody>\n",
       "</table>\n",
       "</div>"
      ],
      "text/plain": [
       "                    Model Name  AUC Score  Training Accuracy  Testing Accuracy  Confusion Matrix\n",
       "7  GBM_tuned (set_full_scaled)     0.8962             0.9132            0.9333   (41, 9, 4, 141)\n",
       "3           RFC (set_4_scaled)     0.8845             0.8350            0.8769  (45, 5, 19, 126)\n",
       "6     RFC_tuned (set_4_scaled)     0.8745             0.7915            0.8718  (44, 6, 19, 126)\n",
       "4        GBM (set_full_scaled)     0.8693             0.9754            0.9128  (39, 11, 6, 139)\n",
       "5     DTC_tuned (set_4_scaled)     0.8683             0.8018            0.8821  (42, 8, 15, 130)\n",
       "2                  DTC (set_4)     0.8445             0.8355            0.8564  (41, 9, 19, 126)\n",
       "1       KNN (set_4_not scaled)     0.7859             0.8121            0.8667  (31, 19, 7, 138)\n",
       "0            Logistic (full 4)     0.6366             0.8001            0.8103  (14, 36, 1, 144)"
      ]
     },
     "execution_count": 50,
     "metadata": {},
     "output_type": "execute_result"
    }
   ],
   "source": [
    "model_performance.sort_values(by = 'AUC Score',\n",
    "                              ascending = False)"
   ]
  },
  {
   "cell_type": "markdown",
   "id": "c8c9a562",
   "metadata": {
    "deletable": false,
    "editable": false
   },
   "source": [
    "<strong>Final results</strong><br>\n",
    "By looking at every result, 35 original models were runed by using different regressors, scaled or not scaled data and different set of variables.\n",
    "<br>\n",
    "In the end, 8 models from the pre tunning phase were selected based on their AUC score, training and testing scores, gap between the latest, and interpretation of the confusion matrix outputs.<br>\n",
    "From these 8 models, only 3 were selected to have its hyperparameters tuned. These were already mentioned before and will be included in the last comparison table at the end of the code.\n",
    "<br>"
   ]
  },
  {
   "cell_type": "markdown",
   "id": "1035bca2",
   "metadata": {
    "deletable": false,
    "editable": false
   },
   "source": [
    "<strong>Final models output and selection</strong>\n",
    "<br>\n",
    "The following table shows the summary of the 3 best models (before and after hyperparameter tuning), and the selected model to predict if a Game of Thrones character would be alive or not.\n",
    "<br>"
   ]
  },
  {
   "cell_type": "code",
   "execution_count": 52,
   "id": "7375d393",
   "metadata": {},
   "outputs": [
    {
     "name": "stdout",
     "output_type": "stream",
     "text": [
      "\n",
      "Model                                 Training score       Testing score       AUC Score       TN, FP, FN, TP\n",
      "---------------------------------     --------------       --------------      ----------      --------------\n",
      "Decision Tree (set_4_scaled)          0.8355               0.8564                0.8445        (41, 9, 19, 126)\n",
      "Tuned Decision Tree (set_4_scaled)    0.8018               0.8821                0.8683        (42, 8, 15, 130)\n",
      "\n",
      "Random Forest (set_4_scaled)          0.835                0.8769                0.8845        (45, 5, 19, 126)        \n",
      "Tuned Random Forest (set_4_scaled)    0.7915               0.8718                0.8745        (44, 6, 19, 126)\n",
      "\n",
      "GBM (full set_scaled)                 0.9754               0.9128                0.8693        (39, 11, 6, 139)\n",
      "Tuned GBM (full set_scaled) **        0.9132               0.9333                0.8962        (41, 9, 4, 141)\n",
      "\n",
      "Note: My final model selection is marked by using double **\n"
     ]
    }
   ],
   "source": [
    "# comparing final results\n",
    "print(f\"\"\"\n",
    "Model                                 Training score       Testing score       AUC Score       TN, FP, FN, TP\n",
    "---------------------------------     --------------       --------------      ----------      --------------\n",
    "Decision Tree (set_4_scaled)          {DTC_train_score}               {DTC_test_score}                {DTC_auc_score}        {DTC_tn, DTC_fp, DTC_fn, DTC_tp}\n",
    "Tuned Decision Tree (set_4_scaled)    {DTC_tuned_train_score}               {DTC_tuned_test_score}                {DTC_tuned_auc_score}        {DTC_tuned_tn, DTC_tuned_fp, DTC_tuned_fn, DTC_tuned_tp}\n",
    "\n",
    "Random Forest (set_4_scaled)          {RFC_train_score}                {RFC_test_score}                {RFC_auc_score}        {RFC_tn, RFC_fp, RFC_fn, RFC_tp}        \n",
    "Tuned Random Forest (set_4_scaled)    {RFC_tuned_train_score}               {RFC_tuned_test_score}                {RFC_tuned_auc}        {RFC_tuned_tn, RFC_tuned_fp, RFC_tuned_fn, RFC_tuned_tp}\n",
    "\n",
    "GBM (full set_scaled)                 {GBM_train_score}               {GBM_test_score}                {GBM_auc_score}        {GBM_tn, GBM_fp, GBM_fn, GBM_tp}\n",
    "Tuned GBM (full set_scaled) **        {gbm_tuned_train_score}               {gbm_tuned_test_score}                {gbm_tuned_auc_score}        {gbm_tuned_tn, gbm_tuned_fp, gbm_tuned_fn, gbm_tuned_tp}\n",
    "\n",
    "Note: My final model selection is marked by using double **\"\"\")"
   ]
  }
 ],
 "metadata": {
  "kernelspec": {
   "display_name": "Python 3 (ipykernel)",
   "language": "python",
   "name": "python3"
  },
  "language_info": {
   "codemirror_mode": {
    "name": "ipython",
    "version": 3
   },
   "file_extension": ".py",
   "mimetype": "text/x-python",
   "name": "python",
   "nbconvert_exporter": "python",
   "pygments_lexer": "ipython3",
   "version": "3.8.8"
  },
  "toc": {
   "base_numbering": 1,
   "nav_menu": {},
   "number_sections": false,
   "sideBar": true,
   "skip_h1_title": false,
   "title_cell": "Table of Contents",
   "title_sidebar": "Contents",
   "toc_cell": false,
   "toc_position": {
    "height": "calc(100% - 180px)",
    "left": "10px",
    "top": "150px",
    "width": "303.837px"
   },
   "toc_section_display": true,
   "toc_window_display": false
  },
  "varInspector": {
   "cols": {
    "lenName": 16,
    "lenType": 16,
    "lenVar": 40
   },
   "kernels_config": {
    "python": {
     "delete_cmd_postfix": "",
     "delete_cmd_prefix": "del ",
     "library": "var_list.py",
     "varRefreshCmd": "print(var_dic_list())"
    },
    "r": {
     "delete_cmd_postfix": ") ",
     "delete_cmd_prefix": "rm(",
     "library": "var_list.r",
     "varRefreshCmd": "cat(var_dic_list()) "
    }
   },
   "types_to_exclude": [
    "module",
    "function",
    "builtin_function_or_method",
    "instance",
    "_Feature"
   ],
   "window_display": false
  }
 },
 "nbformat": 4,
 "nbformat_minor": 5
}
